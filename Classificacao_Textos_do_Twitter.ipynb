{
  "nbformat": 4,
  "nbformat_minor": 0,
  "metadata": {
    "colab": {
      "name": "Classificacao-Textos-do-Twitter.ipynb",
      "provenance": [],
      "authorship_tag": "ABX9TyNJ4wzj8LWi6GU4b+9Yfjao",
      "include_colab_link": true
    },
    "kernelspec": {
      "name": "python3",
      "display_name": "Python 3"
    },
    "language_info": {
      "name": "python"
    }
  },
  "cells": [
    {
      "cell_type": "markdown",
      "metadata": {
        "id": "view-in-github",
        "colab_type": "text"
      },
      "source": [
        "<a href=\"https://colab.research.google.com/github/jscienciadados/pln/blob/main/Classificacao_Textos_do_Twitter.ipynb\" target=\"_parent\"><img src=\"https://colab.research.google.com/assets/colab-badge.svg\" alt=\"Open In Colab\"/></a>"
      ]
    },
    {
      "cell_type": "markdown",
      "metadata": {
        "id": "mlonp6T_2YDK"
      },
      "source": [
        "## Classificação de Textos do Twitter com SpaCy"
      ]
    },
    {
      "cell_type": "markdown",
      "metadata": {
        "id": "6BF9vNOD2nMM"
      },
      "source": [
        "Bibliotecas"
      ]
    },
    {
      "cell_type": "code",
      "metadata": {
        "colab": {
          "base_uri": "https://localhost:8080/"
        },
        "id": "tZfwJKlu2NxH",
        "outputId": "c636461e-4217-4d4b-b141-351a2c97d452"
      },
      "source": [
        "!pip install -q spacy==2.2.3"
      ],
      "execution_count": 1,
      "outputs": [
        {
          "output_type": "stream",
          "name": "stdout",
          "text": [
            "\u001b[K     |████████████████████████████████| 10.4 MB 4.2 MB/s \n",
            "\u001b[K     |████████████████████████████████| 2.2 MB 28.7 MB/s \n",
            "\u001b[?25h"
          ]
        }
      ]
    },
    {
      "cell_type": "code",
      "metadata": {
        "id": "gXew-ooN4i9b"
      },
      "source": [
        "import pandas as pd\n",
        "import numpy as np\n",
        "import matplotlib.pyplot as plt\n",
        "import seaborn as sns\n",
        "import string\n",
        "import spacy\n",
        "import random\n",
        "import re"
      ],
      "execution_count": 23,
      "outputs": []
    },
    {
      "cell_type": "code",
      "metadata": {
        "colab": {
          "base_uri": "https://localhost:8080/",
          "height": 35
        },
        "id": "yikV3lLf21NV",
        "outputId": "4513bf30-26a8-4062-fef5-e9931cc7aee3"
      },
      "source": [
        "import spacy\n",
        "spacy.__version__"
      ],
      "execution_count": 3,
      "outputs": [
        {
          "output_type": "execute_result",
          "data": {
            "application/vnd.google.colaboratory.intrinsic+json": {
              "type": "string"
            },
            "text/plain": [
              "'2.2.3'"
            ]
          },
          "metadata": {},
          "execution_count": 3
        }
      ]
    },
    {
      "cell_type": "code",
      "metadata": {
        "id": "DqKdNDuh3AcG"
      },
      "source": [
        "!python3 -m spacy download pt"
      ],
      "execution_count": null,
      "outputs": []
    },
    {
      "cell_type": "markdown",
      "metadata": {
        "id": "_fE37v4W4LhQ"
      },
      "source": [
        "##Carregamento das bases de dados\n",
        "* Link Kaggle: https://www.kaggle.com/augustop/portuguese-tweets-for-sentiment-analysis#TweetsNeutralHash.csv"
      ]
    },
    {
      "cell_type": "markdown",
      "metadata": {
        "id": "Y-QbwHKd4VDI"
      },
      "source": [
        "##Base de treinamento\n",
        "* Negative label: 0\n",
        "* Positive label: 1"
      ]
    },
    {
      "cell_type": "code",
      "metadata": {
        "id": "ZiIjtfCS3I5V"
      },
      "source": [
        "base_treinamento = pd.read_csv('/content/Train50.csv', delimiter=';')"
      ],
      "execution_count": 7,
      "outputs": []
    },
    {
      "cell_type": "code",
      "metadata": {
        "colab": {
          "base_uri": "https://localhost:8080/"
        },
        "id": "PYpDLJ0l4e_u",
        "outputId": "f59b6dee-7c97-4515-c20a-776c21b56517"
      },
      "source": [
        "base_treinamento.shape"
      ],
      "execution_count": 8,
      "outputs": [
        {
          "output_type": "execute_result",
          "data": {
            "text/plain": [
              "(50000, 5)"
            ]
          },
          "metadata": {},
          "execution_count": 8
        }
      ]
    },
    {
      "cell_type": "code",
      "metadata": {
        "colab": {
          "base_uri": "https://localhost:8080/",
          "height": 204
        },
        "id": "fnRLNN9f411t",
        "outputId": "07f8a835-4d8e-47b1-91c9-e5bfa7e563a1"
      },
      "source": [
        "base_treinamento.head()"
      ],
      "execution_count": 9,
      "outputs": [
        {
          "output_type": "execute_result",
          "data": {
            "text/html": [
              "<div>\n",
              "<style scoped>\n",
              "    .dataframe tbody tr th:only-of-type {\n",
              "        vertical-align: middle;\n",
              "    }\n",
              "\n",
              "    .dataframe tbody tr th {\n",
              "        vertical-align: top;\n",
              "    }\n",
              "\n",
              "    .dataframe thead th {\n",
              "        text-align: right;\n",
              "    }\n",
              "</style>\n",
              "<table border=\"1\" class=\"dataframe\">\n",
              "  <thead>\n",
              "    <tr style=\"text-align: right;\">\n",
              "      <th></th>\n",
              "      <th>id</th>\n",
              "      <th>tweet_text</th>\n",
              "      <th>tweet_date</th>\n",
              "      <th>sentiment</th>\n",
              "      <th>query_used</th>\n",
              "    </tr>\n",
              "  </thead>\n",
              "  <tbody>\n",
              "    <tr>\n",
              "      <th>0</th>\n",
              "      <td>1050785521201541121</td>\n",
              "      <td>@Laranjito76 A pessoa certa para isso seria o ...</td>\n",
              "      <td>Fri Oct 12 16:29:25 +0000 2018</td>\n",
              "      <td>1</td>\n",
              "      <td>:)</td>\n",
              "    </tr>\n",
              "    <tr>\n",
              "      <th>1</th>\n",
              "      <td>1050785431955140608</td>\n",
              "      <td>@behin_d_curtain Para mim, é precisamente o co...</td>\n",
              "      <td>Fri Oct 12 16:29:04 +0000 2018</td>\n",
              "      <td>1</td>\n",
              "      <td>:)</td>\n",
              "    </tr>\n",
              "    <tr>\n",
              "      <th>2</th>\n",
              "      <td>1050785401248645120</td>\n",
              "      <td>Vou fazer um video hoje... estou pensando em f...</td>\n",
              "      <td>Fri Oct 12 16:28:56 +0000 2018</td>\n",
              "      <td>1</td>\n",
              "      <td>:)</td>\n",
              "    </tr>\n",
              "    <tr>\n",
              "      <th>3</th>\n",
              "      <td>1050785370982547461</td>\n",
              "      <td>aaaaaaaa amei tanto essas polaroids, nem sei e...</td>\n",
              "      <td>Fri Oct 12 16:28:49 +0000 2018</td>\n",
              "      <td>1</td>\n",
              "      <td>:)</td>\n",
              "    </tr>\n",
              "    <tr>\n",
              "      <th>4</th>\n",
              "      <td>1050785368902131713</td>\n",
              "      <td>Valoriza o coração do menininho que vc tem. El...</td>\n",
              "      <td>Fri Oct 12 16:28:49 +0000 2018</td>\n",
              "      <td>1</td>\n",
              "      <td>:)</td>\n",
              "    </tr>\n",
              "  </tbody>\n",
              "</table>\n",
              "</div>"
            ],
            "text/plain": [
              "                    id  ... query_used\n",
              "0  1050785521201541121  ...         :)\n",
              "1  1050785431955140608  ...         :)\n",
              "2  1050785401248645120  ...         :)\n",
              "3  1050785370982547461  ...         :)\n",
              "4  1050785368902131713  ...         :)\n",
              "\n",
              "[5 rows x 5 columns]"
            ]
          },
          "metadata": {},
          "execution_count": 9
        }
      ]
    },
    {
      "cell_type": "code",
      "metadata": {
        "colab": {
          "base_uri": "https://localhost:8080/",
          "height": 333
        },
        "id": "IMpDnwJ7456C",
        "outputId": "287d1cfb-4f10-4228-e1d7-ed2ea68d1601"
      },
      "source": [
        "sns.countplot(base_treinamento['sentiment'], label = 'Contagem');"
      ],
      "execution_count": 10,
      "outputs": [
        {
          "output_type": "stream",
          "name": "stderr",
          "text": [
            "/usr/local/lib/python3.7/dist-packages/seaborn/_decorators.py:43: FutureWarning: Pass the following variable as a keyword arg: x. From version 0.12, the only valid positional argument will be `data`, and passing other arguments without an explicit keyword will result in an error or misinterpretation.\n",
            "  FutureWarning\n"
          ]
        },
        {
          "output_type": "display_data",
          "data": {
            "image/png": "[encoded data removed]",
            "text/plain": [
              "<Figure size 432x288 with 1 Axes>"
            ]
          },
          "metadata": {
            "needs_background": "light"
          }
        }
      ]
    },
    {
      "cell_type": "code",
      "metadata": {
        "id": "bhj6D3CA5PLh"
      },
      "source": [
        "# Excluindo a coluna id, tweet_date e query_used\n",
        "base_treinamento.drop(['id', 'tweet_date', 'query_used'], axis= 1, inplace=True)"
      ],
      "execution_count": 11,
      "outputs": []
    },
    {
      "cell_type": "code",
      "metadata": {
        "colab": {
          "base_uri": "https://localhost:8080/",
          "height": 204
        },
        "id": "olNOc0JU58Se",
        "outputId": "08c1a626-ab11-4427-f118-6881332cf396"
      },
      "source": [
        "base_treinamento.head()"
      ],
      "execution_count": 12,
      "outputs": [
        {
          "output_type": "execute_result",
          "data": {
            "text/html": [
              "<div>\n",
              "<style scoped>\n",
              "    .dataframe tbody tr th:only-of-type {\n",
              "        vertical-align: middle;\n",
              "    }\n",
              "\n",
              "    .dataframe tbody tr th {\n",
              "        vertical-align: top;\n",
              "    }\n",
              "\n",
              "    .dataframe thead th {\n",
              "        text-align: right;\n",
              "    }\n",
              "</style>\n",
              "<table border=\"1\" class=\"dataframe\">\n",
              "  <thead>\n",
              "    <tr style=\"text-align: right;\">\n",
              "      <th></th>\n",
              "      <th>tweet_text</th>\n",
              "      <th>sentiment</th>\n",
              "    </tr>\n",
              "  </thead>\n",
              "  <tbody>\n",
              "    <tr>\n",
              "      <th>0</th>\n",
              "      <td>@Laranjito76 A pessoa certa para isso seria o ...</td>\n",
              "      <td>1</td>\n",
              "    </tr>\n",
              "    <tr>\n",
              "      <th>1</th>\n",
              "      <td>@behin_d_curtain Para mim, é precisamente o co...</td>\n",
              "      <td>1</td>\n",
              "    </tr>\n",
              "    <tr>\n",
              "      <th>2</th>\n",
              "      <td>Vou fazer um video hoje... estou pensando em f...</td>\n",
              "      <td>1</td>\n",
              "    </tr>\n",
              "    <tr>\n",
              "      <th>3</th>\n",
              "      <td>aaaaaaaa amei tanto essas polaroids, nem sei e...</td>\n",
              "      <td>1</td>\n",
              "    </tr>\n",
              "    <tr>\n",
              "      <th>4</th>\n",
              "      <td>Valoriza o coração do menininho que vc tem. El...</td>\n",
              "      <td>1</td>\n",
              "    </tr>\n",
              "  </tbody>\n",
              "</table>\n",
              "</div>"
            ],
            "text/plain": [
              "                                          tweet_text  sentiment\n",
              "0  @Laranjito76 A pessoa certa para isso seria o ...          1\n",
              "1  @behin_d_curtain Para mim, é precisamente o co...          1\n",
              "2  Vou fazer um video hoje... estou pensando em f...          1\n",
              "3  aaaaaaaa amei tanto essas polaroids, nem sei e...          1\n",
              "4  Valoriza o coração do menininho que vc tem. El...          1"
            ]
          },
          "metadata": {},
          "execution_count": 12
        }
      ]
    },
    {
      "cell_type": "code",
      "metadata": {
        "colab": {
          "base_uri": "https://localhost:8080/",
          "height": 271
        },
        "id": "dNmOa6yn5_uV",
        "outputId": "26f6d9f6-19d3-4db2-d83f-09cde1178b65"
      },
      "source": [
        "# Heatmap\n",
        "sns.heatmap(pd.isnull(base_treinamento));"
      ],
      "execution_count": 13,
      "outputs": [
        {
          "output_type": "display_data",
          "data": {
            "image/png": "[encoded data removed]",
            "text/plain": [
              "<Figure size 432x288 with 2 Axes>"
            ]
          },
          "metadata": {
            "needs_background": "light"
          }
        }
      ]
    },
    {
      "cell_type": "markdown",
      "metadata": {
        "id": "Sq-x8ZXU6fan"
      },
      "source": [
        "##Base de Teste"
      ]
    },
    {
      "cell_type": "code",
      "metadata": {
        "id": "ozV6eRbj6QxC"
      },
      "source": [
        "base_teste = pd.read_csv('/content/Test.csv', delimiter=';')"
      ],
      "execution_count": 14,
      "outputs": []
    },
    {
      "cell_type": "code",
      "metadata": {
        "colab": {
          "base_uri": "https://localhost:8080/",
          "height": 204
        },
        "id": "i-bMrUix6nDy",
        "outputId": "b45030e7-fe16-4470-9cd7-ddb748487c6b"
      },
      "source": [
        "base_teste.head()"
      ],
      "execution_count": 15,
      "outputs": [
        {
          "output_type": "execute_result",
          "data": {
            "text/html": [
              "<div>\n",
              "<style scoped>\n",
              "    .dataframe tbody tr th:only-of-type {\n",
              "        vertical-align: middle;\n",
              "    }\n",
              "\n",
              "    .dataframe tbody tr th {\n",
              "        vertical-align: top;\n",
              "    }\n",
              "\n",
              "    .dataframe thead th {\n",
              "        text-align: right;\n",
              "    }\n",
              "</style>\n",
              "<table border=\"1\" class=\"dataframe\">\n",
              "  <thead>\n",
              "    <tr style=\"text-align: right;\">\n",
              "      <th></th>\n",
              "      <th>id</th>\n",
              "      <th>tweet_text</th>\n",
              "      <th>tweet_date</th>\n",
              "      <th>sentiment</th>\n",
              "      <th>query_used</th>\n",
              "    </tr>\n",
              "  </thead>\n",
              "  <tbody>\n",
              "    <tr>\n",
              "      <th>0</th>\n",
              "      <td>1029536486021099522</td>\n",
              "      <td>@Gazo1a Nossa! Muito obrigada :)</td>\n",
              "      <td>Wed Aug 15 01:13:20 +0000 2018</td>\n",
              "      <td>1</td>\n",
              "      <td>:)</td>\n",
              "    </tr>\n",
              "    <tr>\n",
              "      <th>1</th>\n",
              "      <td>1029536496368406528</td>\n",
              "      <td>@BerzGamer vai pa puta que te pariu :)</td>\n",
              "      <td>Wed Aug 15 01:13:23 +0000 2018</td>\n",
              "      <td>1</td>\n",
              "      <td>:)</td>\n",
              "    </tr>\n",
              "    <tr>\n",
              "      <th>2</th>\n",
              "      <td>1029536531655131137</td>\n",
              "      <td>QUER MAIS DESCONTOS? (14/08) ⭐⭐⭐⭐⭐ 🌐 Confira n...</td>\n",
              "      <td>Wed Aug 15 01:13:31 +0000 2018</td>\n",
              "      <td>1</td>\n",
              "      <td>:)</td>\n",
              "    </tr>\n",
              "    <tr>\n",
              "      <th>3</th>\n",
              "      <td>1029536560117678081</td>\n",
              "      <td>EU VOU PEGAR VCS, ME AJUDEM GALERA, PELO AMOR ...</td>\n",
              "      <td>Wed Aug 15 01:13:38 +0000 2018</td>\n",
              "      <td>1</td>\n",
              "      <td>:)</td>\n",
              "    </tr>\n",
              "    <tr>\n",
              "      <th>4</th>\n",
              "      <td>1029536605852377088</td>\n",
              "      <td>Estávamos em casa do Zé e eu estava a morrer d...</td>\n",
              "      <td>Wed Aug 15 01:13:49 +0000 2018</td>\n",
              "      <td>1</td>\n",
              "      <td>:)</td>\n",
              "    </tr>\n",
              "  </tbody>\n",
              "</table>\n",
              "</div>"
            ],
            "text/plain": [
              "                    id  ... query_used\n",
              "0  1029536486021099522  ...         :)\n",
              "1  1029536496368406528  ...         :)\n",
              "2  1029536531655131137  ...         :)\n",
              "3  1029536560117678081  ...         :)\n",
              "4  1029536605852377088  ...         :)\n",
              "\n",
              "[5 rows x 5 columns]"
            ]
          },
          "metadata": {},
          "execution_count": 15
        }
      ]
    },
    {
      "cell_type": "code",
      "metadata": {
        "colab": {
          "base_uri": "https://localhost:8080/"
        },
        "id": "N5I2Qxut6ql8",
        "outputId": "98acbe05-29ef-433c-b600-4195c8e33bfc"
      },
      "source": [
        "# shape\n",
        "base_teste.shape"
      ],
      "execution_count": 16,
      "outputs": [
        {
          "output_type": "execute_result",
          "data": {
            "text/plain": [
              "(5000, 5)"
            ]
          },
          "metadata": {},
          "execution_count": 16
        }
      ]
    },
    {
      "cell_type": "code",
      "metadata": {
        "id": "ShvESv5k6v_G"
      },
      "source": [
        "base_teste.drop(['id', 'tweet_date', 'query_used'], axis= 1, inplace=True)"
      ],
      "execution_count": 17,
      "outputs": []
    },
    {
      "cell_type": "code",
      "metadata": {
        "colab": {
          "base_uri": "https://localhost:8080/"
        },
        "id": "RPLww21i6458",
        "outputId": "73293c50-a3fa-4f7b-8c1e-c115bfedec4a"
      },
      "source": [
        "base_teste.shape"
      ],
      "execution_count": 18,
      "outputs": [
        {
          "output_type": "execute_result",
          "data": {
            "text/plain": [
              "(5000, 2)"
            ]
          },
          "metadata": {},
          "execution_count": 18
        }
      ]
    },
    {
      "cell_type": "code",
      "metadata": {
        "colab": {
          "base_uri": "https://localhost:8080/",
          "height": 204
        },
        "id": "mdSmKnvi660v",
        "outputId": "4b463714-7244-46d5-cd18-01acb66a1bd8"
      },
      "source": [
        "base_teste.head()"
      ],
      "execution_count": 20,
      "outputs": [
        {
          "output_type": "execute_result",
          "data": {
            "text/html": [
              "<div>\n",
              "<style scoped>\n",
              "    .dataframe tbody tr th:only-of-type {\n",
              "        vertical-align: middle;\n",
              "    }\n",
              "\n",
              "    .dataframe tbody tr th {\n",
              "        vertical-align: top;\n",
              "    }\n",
              "\n",
              "    .dataframe thead th {\n",
              "        text-align: right;\n",
              "    }\n",
              "</style>\n",
              "<table border=\"1\" class=\"dataframe\">\n",
              "  <thead>\n",
              "    <tr style=\"text-align: right;\">\n",
              "      <th></th>\n",
              "      <th>tweet_text</th>\n",
              "      <th>sentiment</th>\n",
              "    </tr>\n",
              "  </thead>\n",
              "  <tbody>\n",
              "    <tr>\n",
              "      <th>0</th>\n",
              "      <td>@Gazo1a Nossa! Muito obrigada :)</td>\n",
              "      <td>1</td>\n",
              "    </tr>\n",
              "    <tr>\n",
              "      <th>1</th>\n",
              "      <td>@BerzGamer vai pa puta que te pariu :)</td>\n",
              "      <td>1</td>\n",
              "    </tr>\n",
              "    <tr>\n",
              "      <th>2</th>\n",
              "      <td>QUER MAIS DESCONTOS? (14/08) ⭐⭐⭐⭐⭐ 🌐 Confira n...</td>\n",
              "      <td>1</td>\n",
              "    </tr>\n",
              "    <tr>\n",
              "      <th>3</th>\n",
              "      <td>EU VOU PEGAR VCS, ME AJUDEM GALERA, PELO AMOR ...</td>\n",
              "      <td>1</td>\n",
              "    </tr>\n",
              "    <tr>\n",
              "      <th>4</th>\n",
              "      <td>Estávamos em casa do Zé e eu estava a morrer d...</td>\n",
              "      <td>1</td>\n",
              "    </tr>\n",
              "  </tbody>\n",
              "</table>\n",
              "</div>"
            ],
            "text/plain": [
              "                                          tweet_text  sentiment\n",
              "0                   @Gazo1a Nossa! Muito obrigada :)          1\n",
              "1             @BerzGamer vai pa puta que te pariu :)          1\n",
              "2  QUER MAIS DESCONTOS? (14/08) ⭐⭐⭐⭐⭐ 🌐 Confira n...          1\n",
              "3  EU VOU PEGAR VCS, ME AJUDEM GALERA, PELO AMOR ...          1\n",
              "4  Estávamos em casa do Zé e eu estava a morrer d...          1"
            ]
          },
          "metadata": {},
          "execution_count": 20
        }
      ]
    },
    {
      "cell_type": "markdown",
      "metadata": {
        "id": "-RTHqtoe7Q5V"
      },
      "source": [
        "Verificando se há valores faltantes - missing values"
      ]
    },
    {
      "cell_type": "code",
      "metadata": {
        "colab": {
          "base_uri": "https://localhost:8080/",
          "height": 288
        },
        "id": "6Jp3u5vW7BFm",
        "outputId": "546b73fd-b77c-4eea-93bf-05f2e25e097c"
      },
      "source": [
        "sns.heatmap(pd.isnull(base_teste))"
      ],
      "execution_count": 21,
      "outputs": [
        {
          "output_type": "execute_result",
          "data": {
            "text/plain": [
              "<matplotlib.axes._subplots.AxesSubplot at 0x7f107596cd10>"
            ]
          },
          "metadata": {},
          "execution_count": 21
        },
        {
          "output_type": "display_data",
          "data": {
            "image/png": "[encoded data removed]",
            "text/plain": [
              "<Figure size 432x288 with 2 Axes>"
            ]
          },
          "metadata": {
            "needs_background": "light"
          }
        }
      ]
    },
    {
      "cell_type": "markdown",
      "metadata": {
        "id": "MVul73fH77tn"
      },
      "source": [
        "##Função para pré-processamento dos textos\n",
        "* Letras minúsculas\n",
        "* Nome do usuário (@)\n",
        "* URLs\n",
        "* Espaços em branco\n",
        "* Emoticons\n",
        "* Stop words\n",
        "* Lematização\n",
        "* Pontuações"
      ]
    },
    {
      "cell_type": "markdown",
      "metadata": {
        "id": "nZkDbvaL8Lzn"
      },
      "source": [
        "# Criando o Objeto PLN com o dicionário portugues"
      ]
    },
    {
      "cell_type": "code",
      "metadata": {
        "colab": {
          "base_uri": "https://localhost:8080/"
        },
        "id": "oFaC4q7B7XvY",
        "outputId": "20d4a2ff-1d96-49cc-c720-ec5f3fa62a47"
      },
      "source": [
        "pln = spacy.load('pt')\n",
        "pln"
      ],
      "execution_count": 27,
      "outputs": [
        {
          "output_type": "execute_result",
          "data": {
            "text/plain": [
              "<spacy.lang.pt.Portuguese at 0x7f107586d150>"
            ]
          },
          "metadata": {},
          "execution_count": 27
        }
      ]
    },
    {
      "cell_type": "markdown",
      "metadata": {
        "id": "H_8H_Ju_9Q55"
      },
      "source": [
        "# Gerando a lista de stops words"
      ]
    },
    {
      "cell_type": "code",
      "metadata": {
        "id": "N1W4FGkF8Y-g"
      },
      "source": [
        "stop_words = spacy.lang.pt.stop_words.STOP_WORDS"
      ],
      "execution_count": 28,
      "outputs": []
    },
    {
      "cell_type": "markdown",
      "metadata": {
        "id": "6xl-zO5l9dSI"
      },
      "source": [
        "# Função de Préprocessamento"
      ]
    },
    {
      "cell_type": "code",
      "metadata": {
        "id": "JyB5k0LL9a3-"
      },
      "source": [
        "def preprocessamento(texto):\n",
        "  # Letras minúsculas\n",
        "  texto = texto.lower()\n",
        "\n",
        "  # Nome do usuário\n",
        "  texto = re.sub(r\"@[A-Za-z0-9$-_@.&+]+\", ' ', texto)\n",
        "\n",
        "  # URLs\n",
        "  texto = re.sub(r\"https?://[A-Za-z0-9./]+\", ' ', texto)\n",
        "\n",
        "  # Espaços em branco\n",
        "  texto = re.sub(r\" +\", ' ', texto)\n",
        "\n",
        "  # Emoticons\n",
        "  lista_emocoes = {':)': 'emocaopositiva',\n",
        "                   ':d': 'emocaopositiva',\n",
        "                   ':(': 'emocaonegativa'}\n",
        "  for emocao in lista_emocoes:\n",
        "    texto = texto.replace(emocao, lista_emocoes[emocao])\n",
        "\n",
        "  # Lematização\n",
        "  documento = pln(texto)\n",
        "\n",
        "  lista = []\n",
        "  for token in documento:\n",
        "    lista.append(token.lemma_)\n",
        "  \n",
        "  # Stop words e pontuações\n",
        "  lista = [palavra for palavra in lista if palavra not in stop_words and palavra not in string.punctuation]\n",
        "  lista = ' '.join([str(elemento) for elemento in lista if not elemento.isdigit()])\n",
        "  \n",
        "  return lista"
      ],
      "execution_count": 29,
      "outputs": []
    },
    {
      "cell_type": "markdown",
      "metadata": {
        "id": "IDyBslL39sWH"
      },
      "source": [
        "##Pré-Processamento da base de dados"
      ]
    },
    {
      "cell_type": "markdown",
      "metadata": {
        "id": "zlWSyhp79y9L"
      },
      "source": [
        "# Limpeza dos textos"
      ]
    },
    {
      "cell_type": "code",
      "metadata": {
        "colab": {
          "base_uri": "https://localhost:8080/",
          "height": 359
        },
        "id": "pteKeylB9oHa",
        "outputId": "5cc9b54e-4b74-4446-db0c-8869fba15c1b"
      },
      "source": [
        "base_treinamento.head(10)"
      ],
      "execution_count": 30,
      "outputs": [
        {
          "output_type": "execute_result",
          "data": {
            "text/html": [
              "<div>\n",
              "<style scoped>\n",
              "    .dataframe tbody tr th:only-of-type {\n",
              "        vertical-align: middle;\n",
              "    }\n",
              "\n",
              "    .dataframe tbody tr th {\n",
              "        vertical-align: top;\n",
              "    }\n",
              "\n",
              "    .dataframe thead th {\n",
              "        text-align: right;\n",
              "    }\n",
              "</style>\n",
              "<table border=\"1\" class=\"dataframe\">\n",
              "  <thead>\n",
              "    <tr style=\"text-align: right;\">\n",
              "      <th></th>\n",
              "      <th>tweet_text</th>\n",
              "      <th>sentiment</th>\n",
              "    </tr>\n",
              "  </thead>\n",
              "  <tbody>\n",
              "    <tr>\n",
              "      <th>0</th>\n",
              "      <td>@Laranjito76 A pessoa certa para isso seria o ...</td>\n",
              "      <td>1</td>\n",
              "    </tr>\n",
              "    <tr>\n",
              "      <th>1</th>\n",
              "      <td>@behin_d_curtain Para mim, é precisamente o co...</td>\n",
              "      <td>1</td>\n",
              "    </tr>\n",
              "    <tr>\n",
              "      <th>2</th>\n",
              "      <td>Vou fazer um video hoje... estou pensando em f...</td>\n",
              "      <td>1</td>\n",
              "    </tr>\n",
              "    <tr>\n",
              "      <th>3</th>\n",
              "      <td>aaaaaaaa amei tanto essas polaroids, nem sei e...</td>\n",
              "      <td>1</td>\n",
              "    </tr>\n",
              "    <tr>\n",
              "      <th>4</th>\n",
              "      <td>Valoriza o coração do menininho que vc tem. El...</td>\n",
              "      <td>1</td>\n",
              "    </tr>\n",
              "    <tr>\n",
              "      <th>5</th>\n",
              "      <td>@KingJokerLeto mas amiga eu to aqui ainda :)</td>\n",
              "      <td>1</td>\n",
              "    </tr>\n",
              "    <tr>\n",
              "      <th>6</th>\n",
              "      <td>@RivasJairo Bravo, Jairo!!! :)))</td>\n",
              "      <td>1</td>\n",
              "    </tr>\n",
              "    <tr>\n",
              "      <th>7</th>\n",
              "      <td>@inquilinasls @Spotify socorro ksoaksosks acho...</td>\n",
              "      <td>1</td>\n",
              "    </tr>\n",
              "    <tr>\n",
              "      <th>8</th>\n",
              "      <td>@chimekarlla gosto muito de fazenda :) , mas m...</td>\n",
              "      <td>1</td>\n",
              "    </tr>\n",
              "    <tr>\n",
              "      <th>9</th>\n",
              "      <td>Amanha vou ver venom :D</td>\n",
              "      <td>1</td>\n",
              "    </tr>\n",
              "  </tbody>\n",
              "</table>\n",
              "</div>"
            ],
            "text/plain": [
              "                                          tweet_text  sentiment\n",
              "0  @Laranjito76 A pessoa certa para isso seria o ...          1\n",
              "1  @behin_d_curtain Para mim, é precisamente o co...          1\n",
              "2  Vou fazer um video hoje... estou pensando em f...          1\n",
              "3  aaaaaaaa amei tanto essas polaroids, nem sei e...          1\n",
              "4  Valoriza o coração do menininho que vc tem. El...          1\n",
              "5       @KingJokerLeto mas amiga eu to aqui ainda :)          1\n",
              "6                   @RivasJairo Bravo, Jairo!!! :)))          1\n",
              "7  @inquilinasls @Spotify socorro ksoaksosks acho...          1\n",
              "8  @chimekarlla gosto muito de fazenda :) , mas m...          1\n",
              "9                            Amanha vou ver venom :D          1"
            ]
          },
          "metadata": {},
          "execution_count": 30
        }
      ]
    },
    {
      "cell_type": "markdown",
      "metadata": {
        "id": "INW10xNT-a6h"
      },
      "source": [
        "# Aplicando o Pré-Processamento "
      ]
    },
    {
      "cell_type": "code",
      "metadata": {
        "id": "6vTARBsf98CS"
      },
      "source": [
        "base_treinamento['tweet_text'] = base_treinamento['tweet_text'].apply(preprocessamento)"
      ],
      "execution_count": 31,
      "outputs": []
    },
    {
      "cell_type": "code",
      "metadata": {
        "colab": {
          "base_uri": "https://localhost:8080/",
          "height": 359
        },
        "id": "mXxa2b8m-nZO",
        "outputId": "9bc27e81-5d88-4ca9-abfc-1445f32c39e3"
      },
      "source": [
        "base_treinamento.head(10)"
      ],
      "execution_count": 32,
      "outputs": [
        {
          "output_type": "execute_result",
          "data": {
            "text/html": [
              "<div>\n",
              "<style scoped>\n",
              "    .dataframe tbody tr th:only-of-type {\n",
              "        vertical-align: middle;\n",
              "    }\n",
              "\n",
              "    .dataframe tbody tr th {\n",
              "        vertical-align: top;\n",
              "    }\n",
              "\n",
              "    .dataframe thead th {\n",
              "        text-align: right;\n",
              "    }\n",
              "</style>\n",
              "<table border=\"1\" class=\"dataframe\">\n",
              "  <thead>\n",
              "    <tr style=\"text-align: right;\">\n",
              "      <th></th>\n",
              "      <th>tweet_text</th>\n",
              "      <th>sentiment</th>\n",
              "    </tr>\n",
              "  </thead>\n",
              "  <tbody>\n",
              "    <tr>\n",
              "      <th>0</th>\n",
              "      <td>o pessoa certo parir seriar o valer e azeved...</td>\n",
              "      <td>1</td>\n",
              "    </tr>\n",
              "    <tr>\n",
              "      <th>1</th>\n",
              "      <td>parir mim precisamente o contrário emocaopos...</td>\n",
              "      <td>1</td>\n",
              "    </tr>\n",
              "    <tr>\n",
              "      <th>2</th>\n",
              "      <td>video hoje ... pensar falar sobrar o meter csg...</td>\n",
              "      <td>1</td>\n",
              "    </tr>\n",
              "    <tr>\n",
              "      <th>3</th>\n",
              "      <td>aaaaaaaa amar polaroids expressar o quantum to...</td>\n",
              "      <td>1</td>\n",
              "    </tr>\n",
              "    <tr>\n",
              "      <th>4</th>\n",
              "      <td>valorizar o coração menino vc diferente o sorr...</td>\n",
              "      <td>1</td>\n",
              "    </tr>\n",
              "    <tr>\n",
              "      <th>5</th>\n",
              "      <td>amigo to emocaopositiva</td>\n",
              "      <td>1</td>\n",
              "    </tr>\n",
              "    <tr>\n",
              "      <th>6</th>\n",
              "      <td>bravo jairo emocaopositiva</td>\n",
              "      <td>1</td>\n",
              "    </tr>\n",
              "    <tr>\n",
              "      <th>7</th>\n",
              "      <td>socorrer ksoaksosks achar to o caixa som :p</td>\n",
              "      <td>1</td>\n",
              "    </tr>\n",
              "    <tr>\n",
              "      <th>8</th>\n",
              "      <td>gostar fazenda emocaopositiva morrer medo ga...</td>\n",
              "      <td>1</td>\n",
              "    </tr>\n",
              "    <tr>\n",
              "      <th>9</th>\n",
              "      <td>amanhar venom emocaopositiva</td>\n",
              "      <td>1</td>\n",
              "    </tr>\n",
              "  </tbody>\n",
              "</table>\n",
              "</div>"
            ],
            "text/plain": [
              "                                          tweet_text  sentiment\n",
              "0    o pessoa certo parir seriar o valer e azeved...          1\n",
              "1    parir mim precisamente o contrário emocaopos...          1\n",
              "2  video hoje ... pensar falar sobrar o meter csg...          1\n",
              "3  aaaaaaaa amar polaroids expressar o quantum to...          1\n",
              "4  valorizar o coração menino vc diferente o sorr...          1\n",
              "5                            amigo to emocaopositiva          1\n",
              "6                         bravo jairo emocaopositiva          1\n",
              "7        socorrer ksoaksosks achar to o caixa som :p          1\n",
              "8    gostar fazenda emocaopositiva morrer medo ga...          1\n",
              "9                       amanhar venom emocaopositiva          1"
            ]
          },
          "metadata": {},
          "execution_count": 32
        }
      ]
    },
    {
      "cell_type": "code",
      "metadata": {
        "id": "CywEr09mBCS4"
      },
      "source": [
        "base_teste['tweet_text'] = base_teste['tweet_text'].apply(preprocessamento)"
      ],
      "execution_count": 33,
      "outputs": []
    },
    {
      "cell_type": "code",
      "metadata": {
        "colab": {
          "base_uri": "https://localhost:8080/",
          "height": 359
        },
        "id": "8LXaJ8cEBIY8",
        "outputId": "b5597598-3d65-4f14-9859-faf65a8846a7"
      },
      "source": [
        "base_teste.head(10)"
      ],
      "execution_count": 34,
      "outputs": [
        {
          "output_type": "execute_result",
          "data": {
            "text/html": [
              "<div>\n",
              "<style scoped>\n",
              "    .dataframe tbody tr th:only-of-type {\n",
              "        vertical-align: middle;\n",
              "    }\n",
              "\n",
              "    .dataframe tbody tr th {\n",
              "        vertical-align: top;\n",
              "    }\n",
              "\n",
              "    .dataframe thead th {\n",
              "        text-align: right;\n",
              "    }\n",
              "</style>\n",
              "<table border=\"1\" class=\"dataframe\">\n",
              "  <thead>\n",
              "    <tr style=\"text-align: right;\">\n",
              "      <th></th>\n",
              "      <th>tweet_text</th>\n",
              "      <th>sentiment</th>\n",
              "    </tr>\n",
              "  </thead>\n",
              "  <tbody>\n",
              "    <tr>\n",
              "      <th>0</th>\n",
              "      <td>obrigar emocaopositiva</td>\n",
              "      <td>1</td>\n",
              "    </tr>\n",
              "    <tr>\n",
              "      <th>1</th>\n",
              "      <td>pa puta parir emocaopositiva</td>\n",
              "      <td>1</td>\n",
              "    </tr>\n",
              "    <tr>\n",
              "      <th>2</th>\n",
              "      <td>querer desconto 14/08 ⭐ ⭐ ⭐ ⭐ ⭐ 🌐 conferir o l...</td>\n",
              "      <td>1</td>\n",
              "    </tr>\n",
              "    <tr>\n",
              "      <th>3</th>\n",
              "      <td>vcs ajudar galera pelar amor butera emocaoposi...</td>\n",
              "      <td>1</td>\n",
              "    </tr>\n",
              "    <tr>\n",
              "      <th>4</th>\n",
              "      <td>casar zé e o morrer sono chegar o casar e fica...</td>\n",
              "      <td>1</td>\n",
              "    </tr>\n",
              "    <tr>\n",
              "      <th>5</th>\n",
              "      <td>preciso emocaopositiva</td>\n",
              "      <td>1</td>\n",
              "    </tr>\n",
              "    <tr>\n",
              "      <th>6</th>\n",
              "      <td>acaso adorar beijo e abraço hahahahaha bue f...</td>\n",
              "      <td>1</td>\n",
              "    </tr>\n",
              "    <tr>\n",
              "      <th>7</th>\n",
              "      <td>solteiro s emocaopositiva</td>\n",
              "      <td>1</td>\n",
              "    </tr>\n",
              "    <tr>\n",
              "      <th>8</th>\n",
              "      <td>lindeza cortador kit mário coleção bia cravol ...</td>\n",
              "      <td>1</td>\n",
              "    </tr>\n",
              "    <tr>\n",
              "      <th>9</th>\n",
              "      <td>claro emocaopositiva</td>\n",
              "      <td>1</td>\n",
              "    </tr>\n",
              "  </tbody>\n",
              "</table>\n",
              "</div>"
            ],
            "text/plain": [
              "                                          tweet_text  sentiment\n",
              "0                             obrigar emocaopositiva          1\n",
              "1                       pa puta parir emocaopositiva          1\n",
              "2  querer desconto 14/08 ⭐ ⭐ ⭐ ⭐ ⭐ 🌐 conferir o l...          1\n",
              "3  vcs ajudar galera pelar amor butera emocaoposi...          1\n",
              "4  casar zé e o morrer sono chegar o casar e fica...          1\n",
              "5                             preciso emocaopositiva          1\n",
              "6    acaso adorar beijo e abraço hahahahaha bue f...          1\n",
              "7                          solteiro s emocaopositiva          1\n",
              "8  lindeza cortador kit mário coleção bia cravol ...          1\n",
              "9                               claro emocaopositiva          1"
            ]
          },
          "metadata": {},
          "execution_count": 34
        }
      ]
    },
    {
      "cell_type": "markdown",
      "metadata": {
        "id": "zMKSHTk2BsvJ"
      },
      "source": [
        "##Tratamento da classe"
      ]
    },
    {
      "cell_type": "code",
      "metadata": {
        "id": "wAwrWruSBodv"
      },
      "source": [
        "exemplo_base_dados = [[\"este trabalho é agradável\", {\"POSITIVO\": True, \"NEGATIVO\": False}],\n",
        "                      [\"este lugar continua assustador\", {\"POSITIVO\": False, \"NEGATIVO\": True}]]"
      ],
      "execution_count": 35,
      "outputs": []
    },
    {
      "cell_type": "code",
      "metadata": {
        "id": "9DxBJ_XOB1-R"
      },
      "source": [
        "base_dados_treinamento_final = []\n",
        "for texto, emocao in zip(base_treinamento['tweet_text'], base_treinamento['sentiment']):\n",
        "  if emocao == 1:\n",
        "    dic = ({'POSITIVO': True, 'NEGATIVO': False})\n",
        "  elif emocao == 0:\n",
        "    dic = ({'POSITIVO': False, 'NEGATIVO': True})\n",
        "\n",
        "  base_dados_treinamento_final.append([texto, dic.copy()])"
      ],
      "execution_count": 36,
      "outputs": []
    },
    {
      "cell_type": "code",
      "metadata": {
        "colab": {
          "base_uri": "https://localhost:8080/"
        },
        "id": "DaEADT0lB8Dr",
        "outputId": "b9e3b18e-fa80-46d9-a86f-b935c45dc342"
      },
      "source": [
        "len(base_dados_treinamento_final)"
      ],
      "execution_count": 37,
      "outputs": [
        {
          "output_type": "execute_result",
          "data": {
            "text/plain": [
              "50000"
            ]
          },
          "metadata": {},
          "execution_count": 37
        }
      ]
    },
    {
      "cell_type": "code",
      "metadata": {
        "colab": {
          "base_uri": "https://localhost:8080/"
        },
        "id": "8PezXMvmCCfx",
        "outputId": "3c156de4-5084-40e6-8543-939eec436143"
      },
      "source": [
        "base_dados_treinamento_final[10:15]"
      ],
      "execution_count": 38,
      "outputs": [
        {
          "output_type": "execute_result",
          "data": {
            "text/plain": [
              "[['simplesmente o deixar chatear querer muitooo e iludir emocaopositiva',\n",
              "  {'NEGATIVO': False, 'POSITIVO': True}],\n",
              " ['o comedir umar rotina e perfeitamente parir consolidar o escola condução :p',\n",
              "  {'NEGATIVO': False, 'POSITIVO': True}],\n",
              " ['amigar parecer apaixonar vc — recíproco emocaopositiva',\n",
              "  {'NEGATIVO': False, 'POSITIVO': True}],\n",
              " ['  gajar bacano aleijar esperar e o silvar feliz emocaopositiva',\n",
              "  {'NEGATIVO': False, 'POSITIVO': True}],\n",
              " ['tou o video cabra bebé emocaopositiva',\n",
              "  {'NEGATIVO': False, 'POSITIVO': True}]]"
            ]
          },
          "metadata": {},
          "execution_count": 38
        }
      ]
    },
    {
      "cell_type": "code",
      "metadata": {
        "colab": {
          "base_uri": "https://localhost:8080/"
        },
        "id": "pTav0tPGCIVT",
        "outputId": "6837e568-b3a2-421e-f436-596d23724b00"
      },
      "source": [
        "base_dados_treinamento_final[45000:45005]"
      ],
      "execution_count": 39,
      "outputs": [
        {
          "output_type": "execute_result",
          "data": {
            "text/plain": [
              "[['o menino pijama listrar o filmar triste mundo estruturar nenhum pra assistir rever e to pensar n emocaonegativa',\n",
              "  {'NEGATIVO': True, 'POSITIVO': False}],\n",
              " ['pra o vídeo luísa raiz o poliana infelizmente o twitter tá ruim amanhã postar emocaonegativa asaventurasdepoliana099',\n",
              "  {'NEGATIVO': True, 'POSITIVO': False}],\n",
              " ['to crise abstinência strangers emocaonegativa — tbm :/ to',\n",
              "  {'NEGATIVO': True, 'POSITIVO': False}],\n",
              " ['  esquecer olhar pra pagar o mensalidade turma pro cursar querer emocaonegativa',\n",
              "  {'NEGATIVO': True, 'POSITIVO': False}],\n",
              " ['querer comer doce comer montar hoje emocaonegativa maldição',\n",
              "  {'NEGATIVO': True, 'POSITIVO': False}]]"
            ]
          },
          "metadata": {},
          "execution_count": 39
        }
      ]
    },
    {
      "cell_type": "markdown",
      "metadata": {
        "id": "U5fQKceFCaou"
      },
      "source": [
        "##Criação do Classificador"
      ]
    },
    {
      "cell_type": "code",
      "metadata": {
        "id": "qk-O4YPvCSHp"
      },
      "source": [
        "modelo = spacy.blank('pt')\n",
        "categorias = modelo.create_pipe(\"textcat\")\n",
        "categorias.add_label(\"POSITIVO\")\n",
        "categorias.add_label(\"NEGATIVO\")\n",
        "modelo.add_pipe(categorias)\n",
        "historico = []"
      ],
      "execution_count": 40,
      "outputs": []
    },
    {
      "cell_type": "code",
      "metadata": {
        "colab": {
          "base_uri": "https://localhost:8080/"
        },
        "id": "MlVV7nOrC_s5",
        "outputId": "fbd8d922-5ad4-416b-8647-b862e33ba095"
      },
      "source": [
        "modelo.begin_training()\n",
        "for epoca in range(5):\n",
        "  random.shuffle(base_dados_treinamento_final)\n",
        "  losses = {}\n",
        "  for batch in spacy.util.minibatch(base_dados_treinamento_final, 512):\n",
        "    textos = [modelo(texto) for texto, entities in batch]\n",
        "    annotations = [{'cats': entities} for texto, entities in batch]\n",
        "    modelo.update(textos, annotations, losses=losses)\n",
        "    historico.append(losses)\n",
        "  if epoca % 5 == 0:\n",
        "    print(losses)"
      ],
      "execution_count": 41,
      "outputs": [
        {
          "output_type": "stream",
          "name": "stdout",
          "text": [
            "{'textcat': 9.53217266173173e-06}\n"
          ]
        }
      ]
    },
    {
      "cell_type": "markdown",
      "metadata": {
        "id": "5qahjZBtFw9t"
      },
      "source": [
        "# Gerando o Histórico"
      ]
    },
    {
      "cell_type": "code",
      "metadata": {
        "id": "bdqGb6hXDHwU"
      },
      "source": [
        "historico_loss = []\n",
        "for i in historico:\n",
        "  historico_loss.append(i.get('textcat'))\n"
      ],
      "execution_count": 42,
      "outputs": []
    },
    {
      "cell_type": "code",
      "metadata": {
        "colab": {
          "base_uri": "https://localhost:8080/"
        },
        "id": "t2ukO1pRF1IY",
        "outputId": "dfd4c64b-6ba4-4d42-d829-c8b205189da2"
      },
      "source": [
        "historico_loss = np.array(historico_loss)\n",
        "historico_loss"
      ],
      "execution_count": 43,
      "outputs": [
        {
          "output_type": "execute_result",
          "data": {
            "text/plain": [
              "array([9.53217266e-06, 9.53217266e-06, 9.53217266e-06, 9.53217266e-06,\n",
              "       9.53217266e-06, 9.53217266e-06, 9.53217266e-06, 9.53217266e-06,\n",
              "       9.53217266e-06, 9.53217266e-06, 9.53217266e-06, 9.53217266e-06,\n",
              "       9.53217266e-06, 9.53217266e-06, 9.53217266e-06, 9.53217266e-06,\n",
              "       9.53217266e-06, 9.53217266e-06, 9.53217266e-06, 9.53217266e-06,\n",
              "       9.53217266e-06, 9.53217266e-06, 9.53217266e-06, 9.53217266e-06,\n",
              "       9.53217266e-06, 9.53217266e-06, 9.53217266e-06, 9.53217266e-06,\n",
              "       9.53217266e-06, 9.53217266e-06, 9.53217266e-06, 9.53217266e-06,\n",
              "       9.53217266e-06, 9.53217266e-06, 9.53217266e-06, 9.53217266e-06,\n",
              "       9.53217266e-06, 9.53217266e-06, 9.53217266e-06, 9.53217266e-06,\n",
              "       9.53217266e-06, 9.53217266e-06, 9.53217266e-06, 9.53217266e-06,\n",
              "       9.53217266e-06, 9.53217266e-06, 9.53217266e-06, 9.53217266e-06,\n",
              "       9.53217266e-06, 9.53217266e-06, 9.53217266e-06, 9.53217266e-06,\n",
              "       9.53217266e-06, 9.53217266e-06, 9.53217266e-06, 9.53217266e-06,\n",
              "       9.53217266e-06, 9.53217266e-06, 9.53217266e-06, 9.53217266e-06,\n",
              "       9.53217266e-06, 9.53217266e-06, 9.53217266e-06, 9.53217266e-06,\n",
              "       9.53217266e-06, 9.53217266e-06, 9.53217266e-06, 9.53217266e-06,\n",
              "       9.53217266e-06, 9.53217266e-06, 9.53217266e-06, 9.53217266e-06,\n",
              "       9.53217266e-06, 9.53217266e-06, 9.53217266e-06, 9.53217266e-06,\n",
              "       9.53217266e-06, 9.53217266e-06, 9.53217266e-06, 9.53217266e-06,\n",
              "       9.53217266e-06, 9.53217266e-06, 9.53217266e-06, 9.53217266e-06,\n",
              "       9.53217266e-06, 9.53217266e-06, 9.53217266e-06, 9.53217266e-06,\n",
              "       9.53217266e-06, 9.53217266e-06, 9.53217266e-06, 9.53217266e-06,\n",
              "       9.53217266e-06, 9.53217266e-06, 9.53217266e-06, 9.53217266e-06,\n",
              "       9.53217266e-06, 9.53217266e-06, 9.65168747e-07, 9.65168747e-07,\n",
              "       9.65168747e-07, 9.65168747e-07, 9.65168747e-07, 9.65168747e-07,\n",
              "       9.65168747e-07, 9.65168747e-07, 9.65168747e-07, 9.65168747e-07,\n",
              "       9.65168747e-07, 9.65168747e-07, 9.65168747e-07, 9.65168747e-07,\n",
              "       9.65168747e-07, 9.65168747e-07, 9.65168747e-07, 9.65168747e-07,\n",
              "       9.65168747e-07, 9.65168747e-07, 9.65168747e-07, 9.65168747e-07,\n",
              "       9.65168747e-07, 9.65168747e-07, 9.65168747e-07, 9.65168747e-07,\n",
              "       9.65168747e-07, 9.65168747e-07, 9.65168747e-07, 9.65168747e-07,\n",
              "       9.65168747e-07, 9.65168747e-07, 9.65168747e-07, 9.65168747e-07,\n",
              "       9.65168747e-07, 9.65168747e-07, 9.65168747e-07, 9.65168747e-07,\n",
              "       9.65168747e-07, 9.65168747e-07, 9.65168747e-07, 9.65168747e-07,\n",
              "       9.65168747e-07, 9.65168747e-07, 9.65168747e-07, 9.65168747e-07,\n",
              "       9.65168747e-07, 9.65168747e-07, 9.65168747e-07, 9.65168747e-07,\n",
              "       9.65168747e-07, 9.65168747e-07, 9.65168747e-07, 9.65168747e-07,\n",
              "       9.65168747e-07, 9.65168747e-07, 9.65168747e-07, 9.65168747e-07,\n",
              "       9.65168747e-07, 9.65168747e-07, 9.65168747e-07, 9.65168747e-07,\n",
              "       9.65168747e-07, 9.65168747e-07, 9.65168747e-07, 9.65168747e-07,\n",
              "       9.65168747e-07, 9.65168747e-07, 9.65168747e-07, 9.65168747e-07,\n",
              "       9.65168747e-07, 9.65168747e-07, 9.65168747e-07, 9.65168747e-07,\n",
              "       9.65168747e-07, 9.65168747e-07, 9.65168747e-07, 9.65168747e-07,\n",
              "       9.65168747e-07, 9.65168747e-07, 9.65168747e-07, 9.65168747e-07,\n",
              "       9.65168747e-07, 9.65168747e-07, 9.65168747e-07, 9.65168747e-07,\n",
              "       9.65168747e-07, 9.65168747e-07, 9.65168747e-07, 9.65168747e-07,\n",
              "       9.65168747e-07, 9.65168747e-07, 9.65168747e-07, 9.65168747e-07,\n",
              "       9.65168747e-07, 9.65168747e-07, 9.65168747e-07, 9.65168747e-07,\n",
              "       4.15512737e-07, 4.15512737e-07, 4.15512737e-07, 4.15512737e-07,\n",
              "       4.15512737e-07, 4.15512737e-07, 4.15512737e-07, 4.15512737e-07,\n",
              "       4.15512737e-07, 4.15512737e-07, 4.15512737e-07, 4.15512737e-07,\n",
              "       4.15512737e-07, 4.15512737e-07, 4.15512737e-07, 4.15512737e-07,\n",
              "       4.15512737e-07, 4.15512737e-07, 4.15512737e-07, 4.15512737e-07,\n",
              "       4.15512737e-07, 4.15512737e-07, 4.15512737e-07, 4.15512737e-07,\n",
              "       4.15512737e-07, 4.15512737e-07, 4.15512737e-07, 4.15512737e-07,\n",
              "       4.15512737e-07, 4.15512737e-07, 4.15512737e-07, 4.15512737e-07,\n",
              "       4.15512737e-07, 4.15512737e-07, 4.15512737e-07, 4.15512737e-07,\n",
              "       4.15512737e-07, 4.15512737e-07, 4.15512737e-07, 4.15512737e-07,\n",
              "       4.15512737e-07, 4.15512737e-07, 4.15512737e-07, 4.15512737e-07,\n",
              "       4.15512737e-07, 4.15512737e-07, 4.15512737e-07, 4.15512737e-07,\n",
              "       4.15512737e-07, 4.15512737e-07, 4.15512737e-07, 4.15512737e-07,\n",
              "       4.15512737e-07, 4.15512737e-07, 4.15512737e-07, 4.15512737e-07,\n",
              "       4.15512737e-07, 4.15512737e-07, 4.15512737e-07, 4.15512737e-07,\n",
              "       4.15512737e-07, 4.15512737e-07, 4.15512737e-07, 4.15512737e-07,\n",
              "       4.15512737e-07, 4.15512737e-07, 4.15512737e-07, 4.15512737e-07,\n",
              "       4.15512737e-07, 4.15512737e-07, 4.15512737e-07, 4.15512737e-07,\n",
              "       4.15512737e-07, 4.15512737e-07, 4.15512737e-07, 4.15512737e-07,\n",
              "       4.15512737e-07, 4.15512737e-07, 4.15512737e-07, 4.15512737e-07,\n",
              "       4.15512737e-07, 4.15512737e-07, 4.15512737e-07, 4.15512737e-07,\n",
              "       4.15512737e-07, 4.15512737e-07, 4.15512737e-07, 4.15512737e-07,\n",
              "       4.15512737e-07, 4.15512737e-07, 4.15512737e-07, 4.15512737e-07,\n",
              "       4.15512737e-07, 4.15512737e-07, 4.15512737e-07, 4.15512737e-07,\n",
              "       4.15512737e-07, 4.15512737e-07, 2.51618604e-07, 2.51618604e-07,\n",
              "       2.51618604e-07, 2.51618604e-07, 2.51618604e-07, 2.51618604e-07,\n",
              "       2.51618604e-07, 2.51618604e-07, 2.51618604e-07, 2.51618604e-07,\n",
              "       2.51618604e-07, 2.51618604e-07, 2.51618604e-07, 2.51618604e-07,\n",
              "       2.51618604e-07, 2.51618604e-07, 2.51618604e-07, 2.51618604e-07,\n",
              "       2.51618604e-07, 2.51618604e-07, 2.51618604e-07, 2.51618604e-07,\n",
              "       2.51618604e-07, 2.51618604e-07, 2.51618604e-07, 2.51618604e-07,\n",
              "       2.51618604e-07, 2.51618604e-07, 2.51618604e-07, 2.51618604e-07,\n",
              "       2.51618604e-07, 2.51618604e-07, 2.51618604e-07, 2.51618604e-07,\n",
              "       2.51618604e-07, 2.51618604e-07, 2.51618604e-07, 2.51618604e-07,\n",
              "       2.51618604e-07, 2.51618604e-07, 2.51618604e-07, 2.51618604e-07,\n",
              "       2.51618604e-07, 2.51618604e-07, 2.51618604e-07, 2.51618604e-07,\n",
              "       2.51618604e-07, 2.51618604e-07, 2.51618604e-07, 2.51618604e-07,\n",
              "       2.51618604e-07, 2.51618604e-07, 2.51618604e-07, 2.51618604e-07,\n",
              "       2.51618604e-07, 2.51618604e-07, 2.51618604e-07, 2.51618604e-07,\n",
              "       2.51618604e-07, 2.51618604e-07, 2.51618604e-07, 2.51618604e-07,\n",
              "       2.51618604e-07, 2.51618604e-07, 2.51618604e-07, 2.51618604e-07,\n",
              "       2.51618604e-07, 2.51618604e-07, 2.51618604e-07, 2.51618604e-07,\n",
              "       2.51618604e-07, 2.51618604e-07, 2.51618604e-07, 2.51618604e-07,\n",
              "       2.51618604e-07, 2.51618604e-07, 2.51618604e-07, 2.51618604e-07,\n",
              "       2.51618604e-07, 2.51618604e-07, 2.51618604e-07, 2.51618604e-07,\n",
              "       2.51618604e-07, 2.51618604e-07, 2.51618604e-07, 2.51618604e-07,\n",
              "       2.51618604e-07, 2.51618604e-07, 2.51618604e-07, 2.51618604e-07,\n",
              "       2.51618604e-07, 2.51618604e-07, 2.51618604e-07, 2.51618604e-07,\n",
              "       2.51618604e-07, 2.51618604e-07, 2.51618604e-07, 2.51618604e-07,\n",
              "       2.98758511e-07, 2.98758511e-07, 2.98758511e-07, 2.98758511e-07,\n",
              "       2.98758511e-07, 2.98758511e-07, 2.98758511e-07, 2.98758511e-07,\n",
              "       2.98758511e-07, 2.98758511e-07, 2.98758511e-07, 2.98758511e-07,\n",
              "       2.98758511e-07, 2.98758511e-07, 2.98758511e-07, 2.98758511e-07,\n",
              "       2.98758511e-07, 2.98758511e-07, 2.98758511e-07, 2.98758511e-07,\n",
              "       2.98758511e-07, 2.98758511e-07, 2.98758511e-07, 2.98758511e-07,\n",
              "       2.98758511e-07, 2.98758511e-07, 2.98758511e-07, 2.98758511e-07,\n",
              "       2.98758511e-07, 2.98758511e-07, 2.98758511e-07, 2.98758511e-07,\n",
              "       2.98758511e-07, 2.98758511e-07, 2.98758511e-07, 2.98758511e-07,\n",
              "       2.98758511e-07, 2.98758511e-07, 2.98758511e-07, 2.98758511e-07,\n",
              "       2.98758511e-07, 2.98758511e-07, 2.98758511e-07, 2.98758511e-07,\n",
              "       2.98758511e-07, 2.98758511e-07, 2.98758511e-07, 2.98758511e-07,\n",
              "       2.98758511e-07, 2.98758511e-07, 2.98758511e-07, 2.98758511e-07,\n",
              "       2.98758511e-07, 2.98758511e-07, 2.98758511e-07, 2.98758511e-07,\n",
              "       2.98758511e-07, 2.98758511e-07, 2.98758511e-07, 2.98758511e-07,\n",
              "       2.98758511e-07, 2.98758511e-07, 2.98758511e-07, 2.98758511e-07,\n",
              "       2.98758511e-07, 2.98758511e-07, 2.98758511e-07, 2.98758511e-07,\n",
              "       2.98758511e-07, 2.98758511e-07, 2.98758511e-07, 2.98758511e-07,\n",
              "       2.98758511e-07, 2.98758511e-07, 2.98758511e-07, 2.98758511e-07,\n",
              "       2.98758511e-07, 2.98758511e-07, 2.98758511e-07, 2.98758511e-07,\n",
              "       2.98758511e-07, 2.98758511e-07, 2.98758511e-07, 2.98758511e-07,\n",
              "       2.98758511e-07, 2.98758511e-07, 2.98758511e-07, 2.98758511e-07,\n",
              "       2.98758511e-07, 2.98758511e-07, 2.98758511e-07, 2.98758511e-07,\n",
              "       2.98758511e-07, 2.98758511e-07, 2.98758511e-07, 2.98758511e-07,\n",
              "       2.98758511e-07, 2.98758511e-07])"
            ]
          },
          "metadata": {},
          "execution_count": 43
        }
      ]
    },
    {
      "cell_type": "markdown",
      "metadata": {
        "id": "doXelCiQGJOK"
      },
      "source": [
        "# Loss"
      ]
    },
    {
      "cell_type": "code",
      "metadata": {
        "colab": {
          "base_uri": "https://localhost:8080/",
          "height": 312
        },
        "id": "kgYEPGtiF4Z3",
        "outputId": "a9216e1d-bb04-43f9-9b5b-26d349960fc4"
      },
      "source": [
        "import matplotlib.pyplot as plt\n",
        "plt.plot(historico_loss)\n",
        "plt.title('Progressão do erro')\n",
        "plt.xlabel('Batches')\n",
        "plt.ylabel('Erro')"
      ],
      "execution_count": 44,
      "outputs": [
        {
          "output_type": "execute_result",
          "data": {
            "text/plain": [
              "Text(0, 0.5, 'Erro')"
            ]
          },
          "metadata": {},
          "execution_count": 44
        },
        {
          "output_type": "display_data",
          "data": {
            "image/png": "[encoded data removed]",
            "text/plain": [
              "<Figure size 432x288 with 1 Axes>"
            ]
          },
          "metadata": {
            "needs_background": "light"
          }
        }
      ]
    },
    {
      "cell_type": "markdown",
      "metadata": {
        "id": "KiAtULyxGYoL"
      },
      "source": [
        "# Salvando o modelo em disco"
      ]
    },
    {
      "cell_type": "code",
      "metadata": {
        "id": "EE5TKkvVGRDO"
      },
      "source": [
        "modelo.to_disk(\"modelo\")"
      ],
      "execution_count": 45,
      "outputs": []
    },
    {
      "cell_type": "markdown",
      "metadata": {
        "id": "N0T3KDUoGdiH"
      },
      "source": [
        "# Testes com uma frase"
      ]
    },
    {
      "cell_type": "code",
      "metadata": {
        "colab": {
          "base_uri": "https://localhost:8080/"
        },
        "id": "ms4dgyJkGca9",
        "outputId": "0ac2aef7-3869-4f2b-faed-e247fc955b95"
      },
      "source": [
        "# Carregando o modelo\n",
        "modelo_carregado = spacy.load('modelo')\n",
        "modelo_carregado"
      ],
      "execution_count": 46,
      "outputs": [
        {
          "output_type": "execute_result",
          "data": {
            "text/plain": [
              "<spacy.lang.pt.Portuguese at 0x7f10758ff890>"
            ]
          },
          "metadata": {},
          "execution_count": 46
        }
      ]
    },
    {
      "cell_type": "markdown",
      "metadata": {
        "id": "KBJNZhEXHEf1"
      },
      "source": [
        "##Texto Positivo"
      ]
    },
    {
      "cell_type": "code",
      "metadata": {
        "colab": {
          "base_uri": "https://localhost:8080/",
          "height": 35
        },
        "id": "P6_Okp-hHAcw",
        "outputId": "9bab0c62-2661-48c6-95ac-48d947bcc3e4"
      },
      "source": [
        "texto_positivo = base_teste['tweet_text'][21]\n",
        "texto_positivo"
      ],
      "execution_count": 47,
      "outputs": [
        {
          "output_type": "execute_result",
          "data": {
            "application/vnd.google.colaboratory.intrinsic+json": {
              "type": "string"
            },
            "text/plain": [
              "'  ficar feliz q recíproco emocaopositiva'"
            ]
          },
          "metadata": {},
          "execution_count": 47
        }
      ]
    },
    {
      "cell_type": "code",
      "metadata": {
        "colab": {
          "base_uri": "https://localhost:8080/"
        },
        "id": "82RFryyAHIUF",
        "outputId": "2877603f-4971-42d1-e28c-1b7f201a81ca"
      },
      "source": [
        "previsao = modelo_carregado(texto_positivo)\n",
        "previsao"
      ],
      "execution_count": 48,
      "outputs": [
        {
          "output_type": "execute_result",
          "data": {
            "text/plain": [
              "  ficar feliz q recíproco emocaopositiva"
            ]
          },
          "metadata": {},
          "execution_count": 48
        }
      ]
    },
    {
      "cell_type": "code",
      "metadata": {
        "colab": {
          "base_uri": "https://localhost:8080/"
        },
        "id": "-UxKQSjYHMHY",
        "outputId": "d38cbbb2-dc2d-479a-c305-c0818dd865d4"
      },
      "source": [
        "previsao.cats"
      ],
      "execution_count": 49,
      "outputs": [
        {
          "output_type": "execute_result",
          "data": {
            "text/plain": [
              "{'NEGATIVO': 9.168640099233016e-05, 'POSITIVO': 0.999799907207489}"
            ]
          },
          "metadata": {},
          "execution_count": 49
        }
      ]
    },
    {
      "cell_type": "code",
      "metadata": {
        "colab": {
          "base_uri": "https://localhost:8080/",
          "height": 35
        },
        "id": "8LRBqqR0HRBl",
        "outputId": "ee6b6d84-fd53-4abb-b790-b077dc57049d"
      },
      "source": [
        "texto_positivo = 'eu gosto muito de você'\n",
        "texto_positivo = preprocessamento(texto_positivo)\n",
        "texto_positivo"
      ],
      "execution_count": 50,
      "outputs": [
        {
          "output_type": "execute_result",
          "data": {
            "application/vnd.google.colaboratory.intrinsic+json": {
              "type": "string"
            },
            "text/plain": [
              "'gostar'"
            ]
          },
          "metadata": {},
          "execution_count": 50
        }
      ]
    },
    {
      "cell_type": "markdown",
      "metadata": {
        "id": "NDVeUR-wHaBD"
      },
      "source": [
        "##Texto Negativo"
      ]
    },
    {
      "cell_type": "code",
      "metadata": {
        "colab": {
          "base_uri": "https://localhost:8080/",
          "height": 35
        },
        "id": "k7ipWT0FHWvF",
        "outputId": "1093ea40-ae2c-4034-e317-3824f00166c6"
      },
      "source": [
        "base_teste['tweet_text'][4000]"
      ],
      "execution_count": 51,
      "outputs": [
        {
          "output_type": "execute_result",
          "data": {
            "application/vnd.google.colaboratory.intrinsic+json": {
              "type": "string"
            },
            "text/plain": [
              "'tô triste filmar mulan o mushu emocaonegativa'"
            ]
          },
          "metadata": {},
          "execution_count": 51
        }
      ]
    },
    {
      "cell_type": "code",
      "metadata": {
        "colab": {
          "base_uri": "https://localhost:8080/"
        },
        "id": "X4EibSE1HuWp",
        "outputId": "670d7cce-5a74-4c93-8332-9382d80c144b"
      },
      "source": [
        "texto_negativo = base_teste['tweet_text'][4000]\n",
        "previsao = modelo_carregado(texto_negativo)\n",
        "previsao.cats"
      ],
      "execution_count": 52,
      "outputs": [
        {
          "output_type": "execute_result",
          "data": {
            "text/plain": [
              "{'NEGATIVO': 0.9997836947441101, 'POSITIVO': 0.00033005798468366265}"
            ]
          },
          "metadata": {},
          "execution_count": 52
        }
      ]
    },
    {
      "cell_type": "markdown",
      "metadata": {
        "id": "nC6hshxyH1y4"
      },
      "source": [
        "##Avaliação do Modelo"
      ]
    },
    {
      "cell_type": "code",
      "metadata": {
        "id": "O8N2R8fZHy9H"
      },
      "source": [
        "previsoes = []\n",
        "for texto in base_teste['tweet_text']:\n",
        "  previsao = modelo_carregado(texto)\n",
        "  previsoes.append(previsao.cats)"
      ],
      "execution_count": 53,
      "outputs": []
    },
    {
      "cell_type": "code",
      "metadata": {
        "id": "YulVrIEYIb1c"
      },
      "source": [
        "previsoes_final = []\n",
        "for previsao in previsoes:\n",
        "  if previsao['POSITIVO'] > previsao['NEGATIVO']:\n",
        "    previsoes_final.append(1)\n",
        "  else:\n",
        "    previsoes_final.append(0)\n",
        "\n",
        "previsoes_final = np.array(previsoes_final)"
      ],
      "execution_count": 54,
      "outputs": []
    },
    {
      "cell_type": "code",
      "metadata": {
        "id": "Yfq9ONbAIk6u"
      },
      "source": [
        "respostas_reais = base_teste['sentiment'].values"
      ],
      "execution_count": 55,
      "outputs": []
    },
    {
      "cell_type": "markdown",
      "metadata": {
        "id": "BPso8-zmIupQ"
      },
      "source": [
        "# Accuracy Score"
      ]
    },
    {
      "cell_type": "code",
      "metadata": {
        "colab": {
          "base_uri": "https://localhost:8080/"
        },
        "id": "tbGkcetKIoe5",
        "outputId": "15a07d10-0b6c-448b-ffef-17d21d6cf9fb"
      },
      "source": [
        "from sklearn.metrics import accuracy_score\n",
        "accuracy_score(respostas_reais, previsoes_final)"
      ],
      "execution_count": 56,
      "outputs": [
        {
          "output_type": "execute_result",
          "data": {
            "text/plain": [
              "0.9974"
            ]
          },
          "metadata": {},
          "execution_count": 56
        }
      ]
    },
    {
      "cell_type": "markdown",
      "metadata": {
        "id": "Y_mhwzaiI30K"
      },
      "source": [
        "##Matriz de Confusão"
      ]
    },
    {
      "cell_type": "code",
      "metadata": {
        "colab": {
          "base_uri": "https://localhost:8080/"
        },
        "id": "HwGUQgVoIzOf",
        "outputId": "8a7b0a8b-7892-4204-e1ef-9dfe662acd91"
      },
      "source": [
        "from sklearn.metrics import confusion_matrix\n",
        "cm = confusion_matrix(respostas_reais, previsoes_final)\n",
        "cm"
      ],
      "execution_count": 57,
      "outputs": [
        {
          "output_type": "execute_result",
          "data": {
            "text/plain": [
              "array([[2493,    7],\n",
              "       [   6, 2494]])"
            ]
          },
          "metadata": {},
          "execution_count": 57
        }
      ]
    },
    {
      "cell_type": "code",
      "metadata": {
        "colab": {
          "base_uri": "https://localhost:8080/",
          "height": 265
        },
        "id": "GrFSxCi_I7mz",
        "outputId": "5728caeb-3b84-4d19-935d-d2515ec20977"
      },
      "source": [
        "sns.heatmap(cm, annot=True);"
      ],
      "execution_count": 58,
      "outputs": [
        {
          "output_type": "display_data",
          "data": {
            "image/png": "[encoded data removed]",
            "text/plain": [
              "<Figure size 432x288 with 2 Axes>"
            ]
          },
          "metadata": {
            "needs_background": "light"
          }
        }
      ]
    },
    {
      "cell_type": "code",
      "metadata": {
        "id": "HD8SBsQeJATr"
      },
      "source": [
        ""
      ],
      "execution_count": null,
      "outputs": []
    }
  ]
}