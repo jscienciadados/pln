{
  "nbformat": 4,
  "nbformat_minor": 0,
  "metadata": {
    "colab": {
      "name": "Intro-PLN-com -NLTK-Python.ipynb",
      "provenance": [],
      "collapsed_sections": [],
      "authorship_tag": "ABX9TyM4s1Ix4jcWk9/xdCIfcHWi",
      "include_colab_link": true
    },
    "kernelspec": {
      "name": "python3",
      "display_name": "Python 3"
    },
    "language_info": {
      "name": "python"
    }
  },
  "cells": [
    {
      "cell_type": "markdown",
      "metadata": {
        "id": "view-in-github",
        "colab_type": "text"
      },
      "source": [
        "<a href=\"https://colab.research.google.com/github/jscienciadados/pln/blob/main/Intro_PLN_com_NLTK_Python.ipynb\" target=\"_parent\"><img src=\"https://colab.research.google.com/assets/colab-badge.svg\" alt=\"Open In Colab\"/></a>"
      ]
    },
    {
      "cell_type": "markdown",
      "metadata": {
        "id": "lkKzm4YGcqP1"
      },
      "source": [
        "##Curso de Processamento de Linguagem Natural - ICMC USP - Extensão\n"
      ]
    },
    {
      "cell_type": "markdown",
      "metadata": {
        "id": "Sn9_zSoevS0Z"
      },
      "source": [
        "# Bibliotecas:"
      ]
    },
    {
      "cell_type": "code",
      "metadata": {
        "id": "Bh8J8Yn0iGDS"
      },
      "source": [
        "import nltk\n"
      ],
      "execution_count": 1,
      "outputs": []
    },
    {
      "cell_type": "markdown",
      "metadata": {
        "id": "w-nHe8hEdleU"
      },
      "source": [
        "# Baixando conteudo complementar do NLTK"
      ]
    },
    {
      "cell_type": "code",
      "metadata": {
        "id": "dyMWHW-2bMQV"
      },
      "source": [
        "nltk.download()"
      ],
      "execution_count": null,
      "outputs": []
    },
    {
      "cell_type": "markdown",
      "metadata": {
        "id": "my5AFdJnz8yf"
      },
      "source": [
        "# Acessando o corpus"
      ]
    },
    {
      "cell_type": "markdown",
      "metadata": {
        "id": "RVvczx-w1AK1"
      },
      "source": [
        "# words"
      ]
    },
    {
      "cell_type": "code",
      "metadata": {
        "colab": {
          "base_uri": "https://localhost:8080/"
        },
        "id": "-bCoV17KyPfm",
        "outputId": "4cb5ae87-524f-439f-ea8f-b5eaa31cce67"
      },
      "source": [
        "nltk.corpus.mac_morpho.words()"
      ],
      "execution_count": 3,
      "outputs": [
        {
          "output_type": "execute_result",
          "data": {
            "text/plain": [
              "['Jersei', 'atinge', 'média', 'de', 'Cr$', '1,4', ...]"
            ]
          },
          "metadata": {},
          "execution_count": 3
        }
      ]
    },
    {
      "cell_type": "code",
      "metadata": {
        "colab": {
          "base_uri": "https://localhost:8080/"
        },
        "id": "kq6xeh0D0qMA",
        "outputId": "44f34d0f-fce6-43ed-d095-e18e827fecfb"
      },
      "source": [
        "# tamanho do corpus\n",
        "len(nltk.corpus.mac_morpho.words())"
      ],
      "execution_count": null,
      "outputs": [
        {
          "output_type": "execute_result",
          "data": {
            "text/plain": [
              "1170095"
            ]
          },
          "metadata": {},
          "execution_count": 5
        }
      ]
    },
    {
      "cell_type": "markdown",
      "metadata": {
        "id": "6ocQ_XTu1C31"
      },
      "source": [
        "# Sentenças"
      ]
    },
    {
      "cell_type": "code",
      "metadata": {
        "colab": {
          "base_uri": "https://localhost:8080/"
        },
        "id": "83lSRmC10x7b",
        "outputId": "64a944c5-2564-4122-f03f-7126e26db68c"
      },
      "source": [
        "nltk.corpus.mac_morpho.sents()"
      ],
      "execution_count": 4,
      "outputs": [
        {
          "output_type": "execute_result",
          "data": {
            "text/plain": [
              "[['Jersei', 'atinge', 'média', 'de', 'Cr$', '1,4', 'milhão', 'em', 'a', 'venda', 'de', 'a', 'Pinhal', 'em', 'São', 'Paulo'], ['Programe', 'sua', 'viagem', 'a', 'a', 'Exposição', 'Nacional', 'do', 'Zebu', ',', 'que', 'começa', 'dia', '25'], ...]"
            ]
          },
          "metadata": {},
          "execution_count": 4
        }
      ]
    },
    {
      "cell_type": "code",
      "metadata": {
        "colab": {
          "base_uri": "https://localhost:8080/"
        },
        "id": "kD1ZGhxq1KWF",
        "outputId": "8f68fffa-1e48-480d-e6d9-6cbc3545b17f"
      },
      "source": [
        "# acessando uma unica sentença\n",
        "nltk.corpus.mac_morpho.sents()[10]"
      ],
      "execution_count": 10,
      "outputs": [
        {
          "output_type": "execute_result",
          "data": {
            "text/plain": [
              "['A',\n",
              " 'nova',\n",
              " 'alíquota',\n",
              " 'para',\n",
              " 'importação',\n",
              " 'de',\n",
              " 'o',\n",
              " 'produto',\n",
              " '(',\n",
              " '17',\n",
              " '%',\n",
              " ')',\n",
              " 'garante',\n",
              " 'a',\n",
              " 'competitividade',\n",
              " 'de',\n",
              " 'a',\n",
              " 'triticultura',\n",
              " 'nacional',\n",
              " ',',\n",
              " 'disse',\n",
              " 'o',\n",
              " 'secretário']"
            ]
          },
          "metadata": {},
          "execution_count": 10
        }
      ]
    },
    {
      "cell_type": "markdown",
      "metadata": {
        "id": "7Su0rBXz1dcM"
      },
      "source": [
        "# Etiquetagem"
      ]
    },
    {
      "cell_type": "code",
      "metadata": {
        "colab": {
          "base_uri": "https://localhost:8080/"
        },
        "id": "3pE8NMIe1MpC",
        "outputId": "8c0dc313-7c46-4d4b-ac77-6ae1322ff910"
      },
      "source": [
        "# mostra as palavras e seu significado\n",
        "nltk.corpus.mac_morpho.tagged_words()"
      ],
      "execution_count": 6,
      "outputs": [
        {
          "output_type": "execute_result",
          "data": {
            "text/plain": [
              "[('Jersei', 'N'), ('atinge', 'V'), ('média', 'N'), ...]"
            ]
          },
          "metadata": {},
          "execution_count": 6
        }
      ]
    },
    {
      "cell_type": "markdown",
      "metadata": {
        "id": "pzQKI5gU1tqE"
      },
      "source": [
        "# sentenças etiquetadas"
      ]
    },
    {
      "cell_type": "code",
      "metadata": {
        "id": "fsEm5KLw1gVx",
        "colab": {
          "base_uri": "https://localhost:8080/"
        },
        "outputId": "70d1b30e-f85f-4faf-8cb2-61aa59dd1fab"
      },
      "source": [
        "nltk.corpus.mac_morpho.tagged_sents()\n"
      ],
      "execution_count": 7,
      "outputs": [
        {
          "output_type": "execute_result",
          "data": {
            "text/plain": [
              "[[('Jersei', 'N'), ('atinge', 'V'), ('média', 'N'), ('de', 'PREP'), ('Cr$', 'CUR'), ('1,4', 'NUM'), ('milhão', 'N'), ('em', 'PREP|+'), ('a', 'ART'), ('venda', 'N'), ('de', 'PREP|+'), ('a', 'ART'), ('Pinhal', 'NPROP'), ('em', 'PREP'), ('São', 'NPROP'), ('Paulo', 'NPROP')], [('Programe', 'V'), ('sua', 'PROADJ'), ('viagem', 'N'), ('a', 'PREP|+'), ('a', 'ART'), ('Exposição', 'NPROP'), ('Nacional', 'NPROP'), ('do', 'NPROP'), ('Zebu', 'NPROP'), (',', ','), ('que', 'PRO-KS-REL'), ('começa', 'V'), ('dia', 'N'), ('25', 'N|AP')], ...]"
            ]
          },
          "metadata": {},
          "execution_count": 7
        }
      ]
    },
    {
      "cell_type": "markdown",
      "metadata": {
        "id": "DODyLTq29kFm"
      },
      "source": [
        "##Tokenização\n"
      ]
    },
    {
      "cell_type": "code",
      "metadata": {
        "colab": {
          "base_uri": "https://localhost:8080/"
        },
        "id": "aKKTVrYd187E",
        "outputId": "aa0b6dfe-5ea1-431f-e41f-6f21126bf517"
      },
      "source": [
        "texto = \"\"\"Costuma-se dividir o estudo do agronegócio em três partes: a primeira representada pela indústria e comércio que fornecem insumos para a produção rural, como, por exemplo, os fabricantes de fertilizantes, defensivos químicos, equipamentos, bancos e financeiras.\n",
        "\n",
        "Na segunda parte, se trata dos negócios agropecuários propriamente ditos, representados pelos produtores rurais, sejam eles pequenos, médios ou grandes, constituídos na forma de pessoas físicas - fazendeiros ou camponeses - ou de pessoas jurídicas.\"\"\"\n",
        "nltk.word_tokenize(texto)"
      ],
      "execution_count": 11,
      "outputs": [
        {
          "output_type": "execute_result",
          "data": {
            "text/plain": [
              "['Costuma-se',\n",
              " 'dividir',\n",
              " 'o',\n",
              " 'estudo',\n",
              " 'do',\n",
              " 'agronegócio',\n",
              " 'em',\n",
              " 'três',\n",
              " 'partes',\n",
              " ':',\n",
              " 'a',\n",
              " 'primeira',\n",
              " 'representada',\n",
              " 'pela',\n",
              " 'indústria',\n",
              " 'e',\n",
              " 'comércio',\n",
              " 'que',\n",
              " 'fornecem',\n",
              " 'insumos',\n",
              " 'para',\n",
              " 'a',\n",
              " 'produção',\n",
              " 'rural',\n",
              " ',',\n",
              " 'como',\n",
              " ',',\n",
              " 'por',\n",
              " 'exemplo',\n",
              " ',',\n",
              " 'os',\n",
              " 'fabricantes',\n",
              " 'de',\n",
              " 'fertilizantes',\n",
              " ',',\n",
              " 'defensivos',\n",
              " 'químicos',\n",
              " ',',\n",
              " 'equipamentos',\n",
              " ',',\n",
              " 'bancos',\n",
              " 'e',\n",
              " 'financeiras',\n",
              " '.',\n",
              " 'Na',\n",
              " 'segunda',\n",
              " 'parte',\n",
              " ',',\n",
              " 'se',\n",
              " 'trata',\n",
              " 'dos',\n",
              " 'negócios',\n",
              " 'agropecuários',\n",
              " 'propriamente',\n",
              " 'ditos',\n",
              " ',',\n",
              " 'representados',\n",
              " 'pelos',\n",
              " 'produtores',\n",
              " 'rurais',\n",
              " ',',\n",
              " 'sejam',\n",
              " 'eles',\n",
              " 'pequenos',\n",
              " ',',\n",
              " 'médios',\n",
              " 'ou',\n",
              " 'grandes',\n",
              " ',',\n",
              " 'constituídos',\n",
              " 'na',\n",
              " 'forma',\n",
              " 'de',\n",
              " 'pessoas',\n",
              " 'físicas',\n",
              " '-',\n",
              " 'fazendeiros',\n",
              " 'ou',\n",
              " 'camponeses',\n",
              " '-',\n",
              " 'ou',\n",
              " 'de',\n",
              " 'pessoas',\n",
              " 'jurídicas',\n",
              " '.']"
            ]
          },
          "metadata": {},
          "execution_count": 11
        }
      ]
    },
    {
      "cell_type": "markdown",
      "metadata": {
        "id": "JNb9R-Qw_g8i"
      },
      "source": [
        "##Expressão Regulares"
      ]
    },
    {
      "cell_type": "markdown",
      "metadata": {
        "id": "qi4cuuQGAJWK"
      },
      "source": [
        "# Tokenizando o texto sem as pontuações"
      ]
    },
    {
      "cell_type": "code",
      "metadata": {
        "id": "Laf3VBcKmAcK"
      },
      "source": [
        "texto_regxp = \"Com um passe de Eli Manning para Plaxico Burress a 39 segundos do fim, o New York Giants anotou o touchdown decisivo e derrubou o favorito New England Patriots por 17 a 14 neste domingo, em Glendale, no Super Bowl XLII.\""
      ],
      "execution_count": 12,
      "outputs": []
    },
    {
      "cell_type": "code",
      "metadata": {
        "id": "qMpkyTq8_Iuj"
      },
      "source": [
        "from nltk.tokenize import RegexpTokenizer\n",
        "tokenizer = RegexpTokenizer(r'\\w+')\n",
        "tokens = tokenizer.tokenize(texto_regxp)"
      ],
      "execution_count": 13,
      "outputs": []
    },
    {
      "cell_type": "code",
      "metadata": {
        "colab": {
          "base_uri": "https://localhost:8080/"
        },
        "id": "qNKVqd6fAIRY",
        "outputId": "41411aa7-0b91-4b05-9162-ac21e6aafde8"
      },
      "source": [
        "tokens"
      ],
      "execution_count": 14,
      "outputs": [
        {
          "output_type": "execute_result",
          "data": {
            "text/plain": [
              "['Com',\n",
              " 'um',\n",
              " 'passe',\n",
              " 'de',\n",
              " 'Eli',\n",
              " 'Manning',\n",
              " 'para',\n",
              " 'Plaxico',\n",
              " 'Burress',\n",
              " 'a',\n",
              " '39',\n",
              " 'segundos',\n",
              " 'do',\n",
              " 'fim',\n",
              " 'o',\n",
              " 'New',\n",
              " 'York',\n",
              " 'Giants',\n",
              " 'anotou',\n",
              " 'o',\n",
              " 'touchdown',\n",
              " 'decisivo',\n",
              " 'e',\n",
              " 'derrubou',\n",
              " 'o',\n",
              " 'favorito',\n",
              " 'New',\n",
              " 'England',\n",
              " 'Patriots',\n",
              " 'por',\n",
              " '17',\n",
              " 'a',\n",
              " '14',\n",
              " 'neste',\n",
              " 'domingo',\n",
              " 'em',\n",
              " 'Glendale',\n",
              " 'no',\n",
              " 'Super',\n",
              " 'Bowl',\n",
              " 'XLII']"
            ]
          },
          "metadata": {},
          "execution_count": 14
        }
      ]
    },
    {
      "cell_type": "code",
      "metadata": {
        "id": "k32NnWtKAQL8"
      },
      "source": [
        "textNltk = \"\"\"Giants batem os Patriots no Super Bowl XLII\n",
        "Azarões acabam com a invencibilidade de New England e ficam com o título da temporada\n",
        "04/02/2008 - 01h07m - Atualizado em 04/02/2008 - 09h49m\n",
        "\n",
        "Com um passe de Eli Manning para Plaxico Burress a 39 segundos do fim, o New York Giants anotou o touchdown decisivo e derrubou o favorito New England Patriots por 17 a 14 neste domingo, em Glendale, no Super Bowl XLII. O resultado, uma das maiores zebras da história do Super Bowl, acabou com a temporada perfeita de Tom Brady e companhia, que esperavam fazer história ao levantar o troféu da NFL sem sofrer uma derrota no ano. \n",
        "\n",
        "A vitória dos Giants, porém, também ficará para a história. Pela primeira vez, irmãos quarterbacks triunfam no Super Bowl em temporadas consecutivas. No ano passado, Peyton Manning, irmão de Eli, chegou ao título máximo da NFL pelo Indianapolis Colts.\n",
        "\n",
        "A partida\n",
        "\n",
        "Os Giants começaram com a posse de bola, e mostraram logo que iriam alongar ao máximo suas posses de bola. Misturando corridas com Brandon Jacobs e passes curtos, o time de Nova York chegou à red zone logo na primeira campanha. O avanço, no entanto, parou na linha de 17 jardas e Lawrence Tynes converteu o field goal de 32 jardas para abrir o placar.\n",
        "\n",
        "Eli Manning e companhia ficaram 9m54s com a bola, mas o ataque dos Patriots não entrou em campo frio. Logo no retorno do kickoff, o running back Laurence Maroney avançou 43 jardas, deixando Tom Brady em boa posição. Com passes curtos, os Patriots chegaram à linha de 17 jardas e, graças a uma penalidade (interferência de passe) do linebacker Antonio Pierce, alcançaram a linha de uma jarda. Maroney avançou pelo chão e anotou o primeiro touchdown do jogo.\n",
        "\n",
        "Os Giants pareciam rumo à virada na campanha seguinte. Manning achou Amani Toomer para um avanço de 38 jardas, e o time de Nova York entrou novamente na red zone. Com a bola na linha de 14 jardas dos Patriots, os Giants sofreram um revés. Manning passou para Steve Smith, que soltou a bola. Ellis Hobbs aproveitou, tomou a posse para os Patriots, e avançou 23 jardas. \n",
        "\n",
        "A defesa de Nova York manteve o jogo equilibrado. Com dois sacks seguidos, os Giants forçaram o punt e recuperaram a bola. Mas a campanha seguinte provou ser outra decepção para Nova York. O time chegou à linha de 25 jardas, mas Manning sofreu um sack e cometeu um fumble, e o ataque voltou para a linha de 39 jardas, não conseguindo pontuar mais uma vez.\n",
        "\n",
        "Os Patriots tiveram uma última chance de marcar antes do intervalo, mas, a 22 segundos do fim do segundo período, Brady foi novamente sacado. Desta vez, ele cometeu o fumble e os Giants tomaram a posse de bola. Manning tentou um passe longo, de 50 jardas, nos últimos segundos, mas não teve sucesso. \n",
        "\n",
        "O jogo continuou amarrado no terceiro quarto, com as defesas levando a melhor sobre os ataques. A única chance de pontuar do período foi dos Patriots, que chegaram à linha de 31 jardas dos Giants. O técnico Bill Bellichick, porém, optou por uma quarta descida em vez de um field goal. Brady tentou um passe para Jabar Gaffney, mas não conseguiu completar.\n",
        "\n",
        "O último período começou arrasador para os Giants. na primeira jogada, Manning achou o tight end Kevin Boss, para um incrível avanço de 45 jardas, que deixou o time na linha de 35 dos Patriots. Outro lançamento, desta vez para Steve Smith, marcou o avanço até a linha de 12 jardas. Duas jogadas depois, David Tyree pegou um passe de cinco jardas na end zone para anotar o touchdown e virar o jogo.\n",
        "\n",
        "Na hora da decisão, o ataque dos Patriots voltou a funcionar. Com uma série de passes curtos e variados, Brady achou Wes Welker, Randy Moss e Kevin Faulk seguidas vezes até chegar à red zone. A 2m45s do fim, o quarterback conectou mais uma vez com Moss, que se desmarcou e ficou livre na lateral direita da end zone.\n",
        "\n",
        "Quando os fãs de New England já comemoravam a vitória, o inesperado aconteceu. Em uma jogada incrível, Eli Manning se soltou de dois marcadores que o seguravam pela camisa e, na corrida, lançou para Amani Toomer. O wide receiver, bem marcado, saltou e conseguiu a fazer recepção para um avanço de 32 jardas, deixando os Giants na linha de 24 de New England.\n",
        "\n",
        "Quatro jogadas depois, a 39 segundos do fim, Manning achou Plaxico Burress na end zone para conseguir o touchdown do título.\n",
        "\"\"\""
      ],
      "execution_count": 15,
      "outputs": []
    },
    {
      "cell_type": "code",
      "metadata": {
        "id": "gSsUq1rTA1rG"
      },
      "source": [
        "from nltk.tokenize import RegexpTokenizer\n",
        "tokenizer = RegexpTokenizer(r'\\w+') # elimina pontuações\n",
        "tokens = tokenizer.tokenize(textNltk)"
      ],
      "execution_count": 16,
      "outputs": []
    },
    {
      "cell_type": "code",
      "metadata": {
        "colab": {
          "base_uri": "https://localhost:8080/"
        },
        "id": "VwLcjVZ3BeKc",
        "outputId": "3dc53644-f85f-4461-b0c0-0d37a76f968a"
      },
      "source": [
        "tokens[0:11]"
      ],
      "execution_count": 17,
      "outputs": [
        {
          "output_type": "execute_result",
          "data": {
            "text/plain": [
              "['Giants',\n",
              " 'batem',\n",
              " 'os',\n",
              " 'Patriots',\n",
              " 'no',\n",
              " 'Super',\n",
              " 'Bowl',\n",
              " 'XLII',\n",
              " 'Azarões',\n",
              " 'acabam',\n",
              " 'com']"
            ]
          },
          "metadata": {},
          "execution_count": 17
        }
      ]
    },
    {
      "cell_type": "markdown",
      "metadata": {
        "id": "mm8OAiXJE2EJ"
      },
      "source": [
        "##Frequência/Contagem das palavras"
      ]
    },
    {
      "cell_type": "code",
      "metadata": {
        "colab": {
          "base_uri": "https://localhost:8080/"
        },
        "id": "USWk6006Bjsi",
        "outputId": "2e0eebfe-b1f7-4796-885c-305ad3ab2e76"
      },
      "source": [
        "frequencia = nltk.FreqDist(w.lower() for w in tokens)\n",
        "frequencia.most_common(12) # ordena a lista de palavra"
      ],
      "execution_count": 19,
      "outputs": [
        {
          "output_type": "execute_result",
          "data": {
            "text/plain": [
              "[('de', 34),\n",
              " ('o', 33),\n",
              " ('a', 28),\n",
              " ('e', 21),\n",
              " ('para', 16),\n",
              " ('jardas', 15),\n",
              " ('os', 13),\n",
              " ('com', 13),\n",
              " ('na', 13),\n",
              " ('do', 12),\n",
              " ('giants', 11),\n",
              " ('um', 11)]"
            ]
          },
          "metadata": {},
          "execution_count": 19
        }
      ]
    },
    {
      "cell_type": "markdown",
      "metadata": {
        "id": "2DdgoEsfFwX4"
      },
      "source": [
        "##Removendo Stopwords"
      ]
    },
    {
      "cell_type": "code",
      "metadata": {
        "id": "ywKMdz3tFbOF"
      },
      "source": [
        "import nltk\n",
        "stopwords = nltk.corpus.stopwords.words('portuguese')"
      ],
      "execution_count": 20,
      "outputs": []
    },
    {
      "cell_type": "markdown",
      "metadata": {
        "id": "An2MPMrjGmXe"
      },
      "source": [
        "# Usando a Regex"
      ]
    },
    {
      "cell_type": "code",
      "metadata": {
        "colab": {
          "base_uri": "https://localhost:8080/"
        },
        "id": "bj2kUyg0GRsi",
        "outputId": "7c1a6f8c-e049-4551-a5e5-fdededab32cb"
      },
      "source": [
        "tokenizer = RegexpTokenizer(r'[a-zA-Z]\\w+')\n",
        "tokens = tokenizer.tokenize(textNltk)\n",
        "stopwords = nltk.corpus.stopwords.words('portuguese')\n",
        "token_sem_stopwords = [w.lower() for w in tokens if w not in stopwords]\n",
        "frequencia = nltk.FreqDist(token_sem_stopwords)\n",
        "frequencia.most_common(15)"
      ],
      "execution_count": 21,
      "outputs": [
        {
          "output_type": "execute_result",
          "data": {
            "text/plain": [
              "[('jardas', 15),\n",
              " ('giants', 11),\n",
              " ('patriots', 10),\n",
              " ('manning', 10),\n",
              " ('linha', 10),\n",
              " ('bola', 7),\n",
              " ('vez', 6),\n",
              " ('zone', 6),\n",
              " ('new', 5),\n",
              " ('com', 5),\n",
              " ('passe', 5),\n",
              " ('york', 5),\n",
              " ('brady', 5),\n",
              " ('avanço', 5),\n",
              " ('super', 4)]"
            ]
          },
          "metadata": {},
          "execution_count": 21
        }
      ]
    },
    {
      "cell_type": "markdown",
      "metadata": {
        "id": "ljmuXzihfyKF"
      },
      "source": [
        "# Lendo um corpus"
      ]
    },
    {
      "cell_type": "code",
      "metadata": {
        "colab": {
          "base_uri": "https://localhost:8080/"
        },
        "id": "LiEBMu1hm7YZ",
        "outputId": "14bd5975-0112-4dba-e18d-ce69a4209763"
      },
      "source": [
        "corpus = open('/content/corpus.txt').read()\n",
        "print(corpus)"
      ],
      "execution_count": 22,
      "outputs": [
        {
          "output_type": "stream",
          "name": "stdout",
          "text": [
            "Giants batem os Patriots no Super Bowl XLII\n",
            "Azarões acabam com a invencibilidade de New England e ficam com o título da temporada\n",
            "04/02/2008 - 01h07m - Atualizado em 04/02/2008 - 09h49m\n",
            "\n",
            "Com um passe de Eli Manning para Plaxico Burress a 39 segundos do fim, o New York Giants anotou o touchdown decisivo e derrubou o favorito New England Patriots por 17 a 14 neste domingo, em Glendale, no Super Bowl XLII. O resultado, uma das maiores zebras da história do Super Bowl, acabou com a temporada perfeita de Tom Brady e companhia, que esperavam fazer história ao levantar o troféu da NFL sem sofrer uma derrota no ano. \n",
            "\n",
            "A vitória dos Giants, porém, também ficará para a história. Pela primeira vez, irmãos quarterbacks triunfam no Super Bowl em temporadas consecutivas. No ano passado, Peyton Manning, irmão de Eli, chegou ao título máximo da NFL pelo Indianapolis Colts.\n",
            "\n",
            "A partida\n",
            "\n",
            "Os Giants começaram com a posse de bola, e mostraram logo que iriam alongar ao máximo suas posses de bola. Misturando corridas com Brandon Jacobs e passes curtos, o time de Nova York chegou à red zone logo na primeira campanha. O avanço, no entanto, parou na linha de 17 jardas e Lawrence Tynes converteu o field goal de 32 jardas para abrir o placar.\n",
            "\n",
            "Eli Manning e companhia ficaram 9m54s com a bola, mas o ataque dos Patriots não entrou em campo frio. Logo no retorno do kickoff, o running back Laurence Maroney avançou 43 jardas, deixando Tom Brady em boa posição. Com passes curtos, os Patriots chegaram à linha de 17 jardas e, graças a uma penalidade (interferência de passe) do linebacker Antonio Pierce, alcançaram a linha de uma jarda. Maroney avançou pelo chão e anotou o primeiro touchdown do jogo.\n",
            "\n",
            "Os Giants pareciam rumo à virada na campanha seguinte. Manning achou Amani Toomer para um avanço de 38 jardas, e o time de Nova York entrou novamente na red zone. Com a bola na linha de 14 jardas dos Patriots, os Giants sofreram um revés. Manning passou para Steve Smith, que soltou a bola. Ellis Hobbs aproveitou, tomou a posse para os Patriots, e avançou 23 jardas. \n",
            "\n",
            "A defesa de Nova York manteve o jogo equilibrado. Com dois sacks seguidos, os Giants forçaram o punt e recuperaram a bola. Mas a campanha seguinte provou ser outra decepção para Nova York. O time chegou à linha de 25 jardas, mas Manning sofreu um sack e cometeu um fumble, e o ataque voltou para a linha de 39 jardas, não conseguindo pontuar mais uma vez.\n",
            "\n",
            "Os Patriots tiveram uma última chance de marcar antes do intervalo, mas, a 22 segundos do fim do segundo período, Brady foi novamente sacado. Desta vez, ele cometeu o fumble e os Giants tomaram a posse de bola. Manning tentou um passe longo, de 50 jardas, nos últimos segundos, mas não teve sucesso. \n",
            "\n",
            "O jogo continuou amarrado no terceiro quarto, com as defesas levando a melhor sobre os ataques. A única chance de pontuar do período foi dos Patriots, que chegaram à linha de 31 jardas dos Giants. O técnico Bill Bellichick, porém, optou por uma quarta descida em vez de um field goal. Brady tentou um passe para Jabar Gaffney, mas não conseguiu completar.\n",
            "\n",
            "O último período começou arrasador para os Giants. na primeira jogada, Manning achou o tight end Kevin Boss, para um incrível avanço de 45 jardas, que deixou o time na linha de 35 dos Patriots. Outro lançamento, desta vez para Steve Smith, marcou o avanço até a linha de 12 jardas. Duas jogadas depois, David Tyree pegou um passe de cinco jardas na end zone para anotar o touchdown e virar o jogo.\n",
            "\n",
            "Na hora da decisão, o ataque dos Patriots voltou a funcionar. Com uma série de passes curtos e variados, Brady achou Wes Welker, Randy Moss e Kevin Faulk seguidas vezes até chegar à red zone. A 2m45s do fim, o quarterback conectou mais uma vez com Moss, que se desmarcou e ficou livre na lateral direita da end zone.\n",
            "\n",
            "Quando os fãs de New England já comemoravam a vitória, o inesperado aconteceu. Em uma jogada incrível, Eli Manning se soltou de dois marcadores que o seguravam pela camisa e, na corrida, lançou para Amani Toomer. O wide receiver, bem marcado, saltou e conseguiu a fazer recepção para um avanço de 32 jardas, deixando os Giants na linha de 24 de New England.\n",
            "\n",
            "Quatro jogadas depois, a 39 segundos do fim, Manning achou Plaxico Burress na end zone para conseguir o touchdown do título.\n",
            "\n"
          ]
        }
      ]
    },
    {
      "cell_type": "code",
      "metadata": {
        "id": "PEOiQE_hnXYo",
        "colab": {
          "base_uri": "https://localhost:8080/"
        },
        "outputId": "4646581a-b248-4acc-d837-33c68a6fbb7a"
      },
      "source": [
        "from nltk.tokenize import RegexpTokenizer\n",
        "\n",
        "tokenizer = RegexpTokenizer(r'[a-zA-Z]\\w*') # captura apenas texto\n",
        "tokens = tokenizer.tokenize(corpus)\n",
        "\n",
        "nova_lista = []\n",
        "nova_lista = [token.lower() for token in tokens if token.lower() not in stopwords]\n",
        "\n",
        "frequencia = nltk.FreqDist(nova_lista)\n",
        "frequencia.most_common(15) # mosta a lista de palavras mais frequentes no texto"
      ],
      "execution_count": 23,
      "outputs": [
        {
          "output_type": "execute_result",
          "data": {
            "text/plain": [
              "[('jardas', 15),\n",
              " ('giants', 11),\n",
              " ('patriots', 10),\n",
              " ('manning', 10),\n",
              " ('linha', 10),\n",
              " ('bola', 7),\n",
              " ('vez', 6),\n",
              " ('zone', 6),\n",
              " ('new', 5),\n",
              " ('passe', 5),\n",
              " ('york', 5),\n",
              " ('brady', 5),\n",
              " ('avanço', 5),\n",
              " ('super', 4),\n",
              " ('bowl', 4)]"
            ]
          },
          "metadata": {},
          "execution_count": 23
        }
      ]
    },
    {
      "cell_type": "markdown",
      "metadata": {
        "id": "8INUryMtJ1xw"
      },
      "source": [
        "##N-Gramas"
      ]
    },
    {
      "cell_type": "markdown",
      "metadata": {
        "id": "c6FEC0kGKi92"
      },
      "source": [
        "# Bigramas"
      ]
    },
    {
      "cell_type": "markdown",
      "metadata": {
        "id": "4V7kOkihoMDJ"
      },
      "source": [
        "##Reconhecimento de Entidades Nomeadas"
      ]
    },
    {
      "cell_type": "code",
      "metadata": {
        "colab": {
          "base_uri": "https://localhost:8080/"
        },
        "id": "WVNj2rfdH_UU",
        "outputId": "10abbfa4-f6dd-4ac8-8e35-eeba83af3d18"
      },
      "source": [
        "from nltk import bigrams\n",
        "from nltk import trigrams\n",
        "\n",
        "# Bigramas - entidade nomeadas\n",
        "bigrama_lista = list(bigrams(tokens))\n",
        "\n",
        "# Trigramas\n",
        "trigrama_lista = list(trigrams(tokens))\n",
        "\n",
        "for info in bigrama_lista:\n",
        "  if (info[0][0].isupper() and info[1][0].isupper()):\n",
        "    print(info)\n"
      ],
      "execution_count": 24,
      "outputs": [
        {
          "output_type": "stream",
          "name": "stdout",
          "text": [
            "('Super', 'Bowl')\n",
            "('Bowl', 'XLII')\n",
            "('XLII', 'Azarões')\n",
            "('New', 'England')\n",
            "('Eli', 'Manning')\n",
            "('Plaxico', 'Burress')\n",
            "('New', 'York')\n",
            "('York', 'Giants')\n",
            "('New', 'England')\n",
            "('England', 'Patriots')\n",
            "('Super', 'Bowl')\n",
            "('Bowl', 'XLII')\n",
            "('XLII', 'O')\n",
            "('Super', 'Bowl')\n",
            "('Tom', 'Brady')\n",
            "('Super', 'Bowl')\n",
            "('Peyton', 'Manning')\n",
            "('Indianapolis', 'Colts')\n",
            "('Colts', 'A')\n",
            "('Os', 'Giants')\n",
            "('Brandon', 'Jacobs')\n",
            "('Nova', 'York')\n",
            "('Lawrence', 'Tynes')\n",
            "('Eli', 'Manning')\n",
            "('Laurence', 'Maroney')\n",
            "('Tom', 'Brady')\n",
            "('Antonio', 'Pierce')\n",
            "('Os', 'Giants')\n",
            "('Amani', 'Toomer')\n",
            "('Nova', 'York')\n",
            "('Steve', 'Smith')\n",
            "('Ellis', 'Hobbs')\n",
            "('Nova', 'York')\n",
            "('Nova', 'York')\n",
            "('York', 'O')\n",
            "('Os', 'Patriots')\n",
            "('Giants', 'O')\n",
            "('Bill', 'Bellichick')\n",
            "('Jabar', 'Gaffney')\n",
            "('Kevin', 'Boss')\n",
            "('Patriots', 'Outro')\n",
            "('Steve', 'Smith')\n",
            "('David', 'Tyree')\n",
            "('Wes', 'Welker')\n",
            "('Welker', 'Randy')\n",
            "('Randy', 'Moss')\n",
            "('Kevin', 'Faulk')\n",
            "('New', 'England')\n",
            "('Eli', 'Manning')\n",
            "('Amani', 'Toomer')\n",
            "('Toomer', 'O')\n",
            "('New', 'England')\n",
            "('England', 'Quatro')\n",
            "('Plaxico', 'Burress')\n"
          ]
        }
      ]
    },
    {
      "cell_type": "markdown",
      "metadata": {
        "id": "S9_s6qydKtkO"
      },
      "source": [
        "# Trigramas"
      ]
    },
    {
      "cell_type": "code",
      "metadata": {
        "colab": {
          "base_uri": "https://localhost:8080/"
        },
        "id": "O6fZkbUvKX4r",
        "outputId": "9de994bb-5fc6-4f61-e29e-1ae19a4bee4b"
      },
      "source": [
        "for info in trigrama_lista:\n",
        "  if (info[0][0].isupper() and info[1][0].isupper() and info[2][0].isupper()):\n",
        "    print(info)"
      ],
      "execution_count": 25,
      "outputs": [
        {
          "output_type": "stream",
          "name": "stdout",
          "text": [
            "('Super', 'Bowl', 'XLII')\n",
            "('Bowl', 'XLII', 'Azarões')\n",
            "('New', 'York', 'Giants')\n",
            "('New', 'England', 'Patriots')\n",
            "('Super', 'Bowl', 'XLII')\n",
            "('Bowl', 'XLII', 'O')\n",
            "('Indianapolis', 'Colts', 'A')\n",
            "('Nova', 'York', 'O')\n",
            "('Wes', 'Welker', 'Randy')\n",
            "('Welker', 'Randy', 'Moss')\n",
            "('Amani', 'Toomer', 'O')\n",
            "('New', 'England', 'Quatro')\n"
          ]
        }
      ]
    },
    {
      "cell_type": "markdown",
      "metadata": {
        "id": "UG-8OqBWLNb3"
      },
      "source": [
        "# N-Gramas"
      ]
    },
    {
      "cell_type": "code",
      "metadata": {
        "colab": {
          "base_uri": "https://localhost:8080/"
        },
        "id": "O2Q3Ru5aLDfU",
        "outputId": "4cae9b8b-34a8-44ea-a153-3b8678d43b3c"
      },
      "source": [
        "from nltk import ngrams\n",
        "#list(ngrams(tokens, 4))\n",
        "\n",
        "# Ngramas\n",
        "ngramas_lista = list(ngrams(tokens, 4))\n",
        "\n",
        "for info in ngramas_lista:\n",
        "  if (info[0][0].isupper() and info[1][0].isupper() and info[2][0] and info[3][0]):\n",
        "    print(info)"
      ],
      "execution_count": 36,
      "outputs": [
        {
          "output_type": "stream",
          "name": "stdout",
          "text": [
            "('Super', 'Bowl', 'XLII', 'Azarões')\n",
            "('Bowl', 'XLII', 'Azarões', 'acabam')\n",
            "('XLII', 'Azarões', 'acabam', 'com')\n",
            "('New', 'England', 'e', 'ficam')\n",
            "('Eli', 'Manning', 'para', 'Plaxico')\n",
            "('Plaxico', 'Burress', 'a', 'segundos')\n",
            "('New', 'York', 'Giants', 'anotou')\n",
            "('York', 'Giants', 'anotou', 'o')\n",
            "('New', 'England', 'Patriots', 'por')\n",
            "('England', 'Patriots', 'por', 'a')\n",
            "('Super', 'Bowl', 'XLII', 'O')\n",
            "('Bowl', 'XLII', 'O', 'resultado')\n",
            "('XLII', 'O', 'resultado', 'uma')\n",
            "('Super', 'Bowl', 'acabou', 'com')\n",
            "('Tom', 'Brady', 'e', 'companhia')\n",
            "('Super', 'Bowl', 'em', 'temporadas')\n",
            "('Peyton', 'Manning', 'irmão', 'de')\n",
            "('Indianapolis', 'Colts', 'A', 'partida')\n",
            "('Colts', 'A', 'partida', 'Os')\n",
            "('Os', 'Giants', 'começaram', 'com')\n",
            "('Brandon', 'Jacobs', 'e', 'passes')\n",
            "('Nova', 'York', 'chegou', 'red')\n",
            "('Lawrence', 'Tynes', 'converteu', 'o')\n",
            "('Eli', 'Manning', 'e', 'companhia')\n",
            "('Laurence', 'Maroney', 'avançou', 'jardas')\n",
            "('Tom', 'Brady', 'em', 'boa')\n",
            "('Antonio', 'Pierce', 'alcançaram', 'a')\n",
            "('Os', 'Giants', 'pareciam', 'rumo')\n",
            "('Amani', 'Toomer', 'para', 'um')\n",
            "('Nova', 'York', 'entrou', 'novamente')\n",
            "('Steve', 'Smith', 'que', 'soltou')\n",
            "('Ellis', 'Hobbs', 'aproveitou', 'tomou')\n",
            "('Nova', 'York', 'manteve', 'o')\n",
            "('Nova', 'York', 'O', 'time')\n",
            "('York', 'O', 'time', 'chegou')\n",
            "('Os', 'Patriots', 'tiveram', 'uma')\n",
            "('Giants', 'O', 'técnico', 'Bill')\n",
            "('Bill', 'Bellichick', 'porém', 'optou')\n",
            "('Jabar', 'Gaffney', 'mas', 'não')\n",
            "('Kevin', 'Boss', 'para', 'um')\n",
            "('Patriots', 'Outro', 'lançamento', 'desta')\n",
            "('Steve', 'Smith', 'marcou', 'o')\n",
            "('David', 'Tyree', 'pegou', 'um')\n",
            "('Wes', 'Welker', 'Randy', 'Moss')\n",
            "('Welker', 'Randy', 'Moss', 'e')\n",
            "('Randy', 'Moss', 'e', 'Kevin')\n",
            "('Kevin', 'Faulk', 'seguidas', 'vezes')\n",
            "('New', 'England', 'já', 'comemoravam')\n",
            "('Eli', 'Manning', 'se', 'soltou')\n",
            "('Amani', 'Toomer', 'O', 'wide')\n",
            "('Toomer', 'O', 'wide', 'receiver')\n",
            "('New', 'England', 'Quatro', 'jogadas')\n",
            "('England', 'Quatro', 'jogadas', 'depois')\n",
            "('Plaxico', 'Burress', 'na', 'end')\n"
          ]
        }
      ]
    },
    {
      "cell_type": "markdown",
      "metadata": {
        "id": "iYunihyTMdmb"
      },
      "source": [
        "##Stemmer e Lemmatizer"
      ]
    },
    {
      "cell_type": "markdown",
      "metadata": {
        "id": "bFZblJbtMkwe"
      },
      "source": [
        "#Stemming\n",
        "Consiste em reduzir a palavra ao seu **radical**"
      ]
    },
    {
      "cell_type": "markdown",
      "metadata": {
        "id": "Tax5QrdgtR-a"
      },
      "source": [
        "# RSLP - Removedor de sufixos da lingua portuguesa"
      ]
    },
    {
      "cell_type": "code",
      "metadata": {
        "colab": {
          "base_uri": "https://localhost:8080/"
        },
        "id": "YrZ_rPyyLf29",
        "outputId": "8d79b462-f1bf-4a81-f604-b7314c7e7efa"
      },
      "source": [
        "#RSLP\n",
        "stemmer = nltk.RSLPStemmer()\n",
        "print(stemmer.stem('Amigão'))\n",
        "print(stemmer.stem('Amigos'))\n",
        "print(stemmer.stem('Propõem'))\n",
        "print(stemmer.stem('propondo'))"
      ],
      "execution_count": 37,
      "outputs": [
        {
          "output_type": "stream",
          "name": "stdout",
          "text": [
            "amig\n",
            "amig\n",
            "propõ\n",
            "prop\n"
          ]
        }
      ]
    },
    {
      "cell_type": "markdown",
      "metadata": {
        "id": "t-ozarLFOQa-"
      },
      "source": [
        "# Lemmatizer"
      ]
    },
    {
      "cell_type": "markdown",
      "metadata": {
        "id": "MlJdlr2mr4so"
      },
      "source": [
        "Consiste em reduzir a palavra à sua forma canônica, levando em conta sua classe gramatical."
      ]
    },
    {
      "cell_type": "code",
      "metadata": {
        "colab": {
          "base_uri": "https://localhost:8080/",
          "height": 35
        },
        "id": "mjummuSIOGL9",
        "outputId": "d71fde40-0c8c-4043-fc57-3b9366f11841"
      },
      "source": [
        "lemmatizer = nltk.stem.WordNetLemmatizer()\n",
        "lemmatizer.lemmatize('propõem', pos='v') # errou"
      ],
      "execution_count": 30,
      "outputs": [
        {
          "output_type": "execute_result",
          "data": {
            "application/vnd.google.colaboratory.intrinsic+json": {
              "type": "string"
            },
            "text/plain": [
              "'propõem'"
            ]
          },
          "metadata": {},
          "execution_count": 30
        }
      ]
    },
    {
      "cell_type": "code",
      "metadata": {
        "colab": {
          "base_uri": "https://localhost:8080/",
          "height": 35
        },
        "id": "CNomHZx1OpOO",
        "outputId": "76bb0308-f57f-4a8f-c294-5eac33fcb53e"
      },
      "source": [
        "lemmatizer.lemmatize('studied', pos='v') # acertou"
      ],
      "execution_count": 31,
      "outputs": [
        {
          "output_type": "execute_result",
          "data": {
            "application/vnd.google.colaboratory.intrinsic+json": {
              "type": "string"
            },
            "text/plain": [
              "'study'"
            ]
          },
          "metadata": {},
          "execution_count": 31
        }
      ]
    },
    {
      "cell_type": "code",
      "metadata": {
        "colab": {
          "base_uri": "https://localhost:8080/",
          "height": 35
        },
        "id": "6xaYX8BUOwJO",
        "outputId": "24df826c-eb2b-4990-eed8-4c2ce5a5a653"
      },
      "source": [
        "lemmatizer.lemmatize('propõem', pos='n')"
      ],
      "execution_count": 32,
      "outputs": [
        {
          "output_type": "execute_result",
          "data": {
            "application/vnd.google.colaboratory.intrinsic+json": {
              "type": "string"
            },
            "text/plain": [
              "'propõem'"
            ]
          },
          "metadata": {},
          "execution_count": 32
        }
      ]
    },
    {
      "cell_type": "markdown",
      "metadata": {
        "id": "VTsSrRHSPCjo"
      },
      "source": [
        "##Etiquetadores"
      ]
    },
    {
      "cell_type": "markdown",
      "metadata": {
        "id": "4c2TE-DgwxnL"
      },
      "source": [
        "# Usando o corpus mac_morpho"
      ]
    },
    {
      "cell_type": "code",
      "metadata": {
        "id": "FgjZBved2eLK"
      },
      "source": [
        "tokens"
      ],
      "execution_count": null,
      "outputs": []
    },
    {
      "cell_type": "code",
      "metadata": {
        "colab": {
          "base_uri": "https://localhost:8080/"
        },
        "id": "QZu1Tx2bO3ll",
        "outputId": "0f34cb4b-b773-4eeb-dc4a-cc3758dd5ad0"
      },
      "source": [
        "from nltk.corpus import mac_morpho\n",
        "from nltk.tag import UnigramTagger\n",
        "\n",
        "sentencas_treinadoras = mac_morpho.tagged_sents()\n",
        "etiq = UnigramTagger(sentencas_treinadoras)\n",
        "tags = etiq.tag(tokens)\n",
        "print(tags)\n",
        "\n",
        "\n",
        "\n",
        "\n"
      ],
      "execution_count": 34,
      "outputs": [
        {
          "output_type": "stream",
          "name": "stdout",
          "text": [
            "[('Giants', 'NPROP'), ('batem', 'V'), ('os', 'ART'), ('Patriots', None), ('no', 'KC'), ('Super', 'NPROP'), ('Bowl', 'NPROP'), ('XLII', None), ('Azarões', None), ('acabam', 'VAUX'), ('com', 'PREP'), ('a', 'ART'), ('invencibilidade', 'N'), ('de', 'PREP'), ('New', 'NPROP'), ('England', 'NPROP'), ('e', 'KC'), ('ficam', 'V'), ('com', 'PREP'), ('o', 'ART'), ('título', 'N'), ('da', 'NPROP'), ('temporada', 'N'), ('h07m', None), ('Atualizado', None), ('em', 'PREP|+'), ('h49m', None), ('Com', 'PREP'), ('um', 'ART'), ('passe', 'N'), ('de', 'PREP'), ('Eli', 'NPROP'), ('Manning', 'NPROP'), ('para', 'PREP'), ('Plaxico', None), ('Burress', None), ('a', 'ART'), ('segundos', 'N'), ('do', 'NPROP'), ('fim', 'N'), ('o', 'ART'), ('New', 'NPROP'), ('York', 'NPROP'), ('Giants', 'NPROP'), ('anotou', 'V'), ('o', 'ART'), ('touchdown', 'N|EST'), ('decisivo', 'ADJ'), ('e', 'KC'), ('derrubou', 'V'), ('o', 'ART'), ('favorito', 'N'), ('New', 'NPROP'), ('England', 'NPROP'), ('Patriots', None), ('por', 'PREP|+'), ('a', 'ART'), ('neste', None), ('domingo', 'N'), ('em', 'PREP|+'), ('Glendale', None), ('no', 'KC'), ('Super', 'NPROP'), ('Bowl', 'NPROP'), ('XLII', None), ('O', 'ART'), ('resultado', 'N'), ('uma', 'ART'), ('das', 'NPROP'), ('maiores', 'ADJ'), ('zebras', None), ('da', 'NPROP'), ('história', 'N'), ('do', 'NPROP'), ('Super', 'NPROP'), ('Bowl', 'NPROP'), ('acabou', 'VAUX'), ('com', 'PREP'), ('a', 'ART'), ('temporada', 'N'), ('perfeita', 'ADJ'), ('de', 'PREP'), ('Tom', 'NPROP'), ('Brady', 'NPROP'), ('e', 'KC'), ('companhia', 'N'), ('que', 'PRO-KS-REL'), ('esperavam', 'V'), ('fazer', 'V'), ('história', 'N'), ('ao', 'PREP'), ('levantar', 'V'), ('o', 'ART'), ('troféu', 'N'), ('da', 'NPROP'), ('NFL', None), ('sem', 'PREP'), ('sofrer', 'V'), ('uma', 'ART'), ('derrota', 'N'), ('no', 'KC'), ('ano', 'N'), ('A', 'ART'), ('vitória', 'N'), ('dos', 'NPROP'), ('Giants', 'NPROP'), ('porém', 'KC'), ('também', 'PDEN'), ('ficará', 'V'), ('para', 'PREP'), ('a', 'ART'), ('história', 'N'), ('Pela', 'NPROP'), ('primeira', 'ADJ'), ('vez', 'N'), ('irmãos', 'N'), ('quarterbacks', None), ('triunfam', None), ('no', 'KC'), ('Super', 'NPROP'), ('Bowl', 'NPROP'), ('em', 'PREP|+'), ('temporadas', 'N'), ('consecutivas', 'ADJ'), ('No', 'KC'), ('ano', 'N'), ('passado', 'PCP'), ('Peyton', None), ('Manning', 'NPROP'), ('irmão', 'N'), ('de', 'PREP'), ('Eli', 'NPROP'), ('chegou', 'V'), ('ao', 'PREP'), ('título', 'N'), ('máximo', 'N'), ('da', 'NPROP'), ('NFL', None), ('pelo', 'PDEN'), ('Indianapolis', None), ('Colts', None), ('A', 'ART'), ('partida', 'N'), ('Os', 'ART'), ('Giants', 'NPROP'), ('começaram', 'VAUX'), ('com', 'PREP'), ('a', 'ART'), ('posse', 'N'), ('de', 'PREP'), ('bola', 'N'), ('e', 'KC'), ('mostraram', 'V'), ('logo', 'ADV'), ('que', 'PRO-KS-REL'), ('iriam', 'VAUX'), ('alongar', 'V'), ('ao', 'PREP'), ('máximo', 'N'), ('suas', 'PROADJ'), ('posses', 'N'), ('de', 'PREP'), ('bola', 'N'), ('Misturando', None), ('corridas', 'N'), ('com', 'PREP'), ('Brandon', None), ('Jacobs', 'NPROP'), ('e', 'KC'), ('passes', 'N'), ('curtos', 'ADJ'), ('o', 'ART'), ('time', 'N'), ('de', 'PREP'), ('Nova', 'NPROP'), ('York', 'NPROP'), ('chegou', 'V'), ('red', 'N|EST'), ('zone', None), ('logo', 'ADV'), ('na', 'NPROP'), ('primeira', 'ADJ'), ('campanha', 'N'), ('O', 'ART'), ('avanço', 'N'), ('no', 'KC'), ('entanto', 'KC'), ('parou', 'V'), ('na', 'NPROP'), ('linha', 'N'), ('de', 'PREP'), ('jardas', 'N'), ('e', 'KC'), ('Lawrence', 'NPROP'), ('Tynes', None), ('converteu', 'V'), ('o', 'ART'), ('field', 'N|EST'), ('goal', 'N|EST'), ('de', 'PREP'), ('jardas', 'N'), ('para', 'PREP'), ('abrir', 'V'), ('o', 'ART'), ('placar', 'N'), ('Eli', 'NPROP'), ('Manning', 'NPROP'), ('e', 'KC'), ('companhia', 'N'), ('ficaram', 'V'), ('m54s', None), ('com', 'PREP'), ('a', 'ART'), ('bola', 'N'), ('mas', 'KC'), ('o', 'ART'), ('ataque', 'N'), ('dos', 'NPROP'), ('Patriots', None), ('não', 'ADV'), ('entrou', 'V'), ('em', 'PREP|+'), ('campo', 'N'), ('frio', 'N'), ('Logo', 'ADV'), ('no', 'KC'), ('retorno', 'N'), ('do', 'NPROP'), ('kickoff', None), ('o', 'ART'), ('running', 'N|EST'), ('back', 'N|EST'), ('Laurence', 'NPROP'), ('Maroney', None), ('avançou', 'V'), ('jardas', 'N'), ('deixando', 'V'), ('Tom', 'NPROP'), ('Brady', 'NPROP'), ('em', 'PREP|+'), ('boa', 'ADJ'), ('posição', 'N'), ('Com', 'PREP'), ('passes', 'N'), ('curtos', 'ADJ'), ('os', 'ART'), ('Patriots', None), ('chegaram', 'V'), ('linha', 'N'), ('de', 'PREP'), ('jardas', 'N'), ('e', 'KC'), ('graças', 'PREP|+'), ('a', 'ART'), ('uma', 'ART'), ('penalidade', None), ('interferência', 'N'), ('de', 'PREP'), ('passe', 'N'), ('do', 'NPROP'), ('linebacker', None), ('Antonio', 'NPROP'), ('Pierce', 'NPROP'), ('alcançaram', 'V'), ('a', 'ART'), ('linha', 'N'), ('de', 'PREP'), ('uma', 'ART'), ('jarda', None), ('Maroney', None), ('avançou', 'V'), ('pelo', 'PDEN'), ('chão', 'N'), ('e', 'KC'), ('anotou', 'V'), ('o', 'ART'), ('primeiro', 'ADJ'), ('touchdown', 'N|EST'), ('do', 'NPROP'), ('jogo', 'N'), ('Os', 'ART'), ('Giants', 'NPROP'), ('pareciam', 'V'), ('rumo', 'PREP|+'), ('virada', 'N'), ('na', 'NPROP'), ('campanha', 'N'), ('seguinte', 'ADJ'), ('Manning', 'NPROP'), ('achou', 'V'), ('Amani', None), ('Toomer', None), ('para', 'PREP'), ('um', 'ART'), ('avanço', 'N'), ('de', 'PREP'), ('jardas', 'N'), ('e', 'KC'), ('o', 'ART'), ('time', 'N'), ('de', 'PREP'), ('Nova', 'NPROP'), ('York', 'NPROP'), ('entrou', 'V'), ('novamente', 'ADV'), ('na', 'NPROP'), ('red', 'N|EST'), ('zone', None), ('Com', 'PREP'), ('a', 'ART'), ('bola', 'N'), ('na', 'NPROP'), ('linha', 'N'), ('de', 'PREP'), ('jardas', 'N'), ('dos', 'NPROP'), ('Patriots', None), ('os', 'ART'), ('Giants', 'NPROP'), ('sofreram', 'V'), ('um', 'ART'), ('revés', None), ('Manning', 'NPROP'), ('passou', 'V'), ('para', 'PREP'), ('Steve', 'NPROP'), ('Smith', 'NPROP'), ('que', 'PRO-KS-REL'), ('soltou', 'V'), ('a', 'ART'), ('bola', 'N'), ('Ellis', 'NPROP'), ('Hobbs', None), ('aproveitou', 'V'), ('tomou', 'V'), ('a', 'ART'), ('posse', 'N'), ('para', 'PREP'), ('os', 'ART'), ('Patriots', None), ('e', 'KC'), ('avançou', 'V'), ('jardas', 'N'), ('A', 'ART'), ('defesa', 'N'), ('de', 'PREP'), ('Nova', 'NPROP'), ('York', 'NPROP'), ('manteve', 'V'), ('o', 'ART'), ('jogo', 'N'), ('equilibrado', 'PCP'), ('Com', 'PREP'), ('dois', 'NUM'), ('sacks', None), ('seguidos', 'PCP'), ('os', 'ART'), ('Giants', 'NPROP'), ('forçaram', 'V'), ('o', 'ART'), ('punt', None), ('e', 'KC'), ('recuperaram', None), ('a', 'ART'), ('bola', 'N'), ('Mas', 'KC'), ('a', 'ART'), ('campanha', 'N'), ('seguinte', 'ADJ'), ('provou', 'V'), ('ser', 'VAUX'), ('outra', 'PROADJ'), ('decepção', 'N'), ('para', 'PREP'), ('Nova', 'NPROP'), ('York', 'NPROP'), ('O', 'ART'), ('time', 'N'), ('chegou', 'V'), ('linha', 'N'), ('de', 'PREP'), ('jardas', 'N'), ('mas', 'KC'), ('Manning', 'NPROP'), ('sofreu', 'V'), ('um', 'ART'), ('sack', None), ('e', 'KC'), ('cometeu', 'V'), ('um', 'ART'), ('fumble', 'N|EST'), ('e', 'KC'), ('o', 'ART'), ('ataque', 'N'), ('voltou', 'V'), ('para', 'PREP'), ('a', 'ART'), ('linha', 'N'), ('de', 'PREP'), ('jardas', 'N'), ('não', 'ADV'), ('conseguindo', 'V'), ('pontuar', None), ('mais', 'ADV'), ('uma', 'ART'), ('vez', 'N'), ('Os', 'ART'), ('Patriots', None), ('tiveram', 'V'), ('uma', 'ART'), ('ltima', None), ('chance', 'N'), ('de', 'PREP'), ('marcar', 'V'), ('antes', 'ADV'), ('do', 'NPROP'), ('intervalo', 'N'), ('mas', 'KC'), ('a', 'ART'), ('segundos', 'N'), ('do', 'NPROP'), ('fim', 'N'), ('do', 'NPROP'), ('segundo', 'PREP'), ('período', 'N'), ('Brady', 'NPROP'), ('foi', 'VAUX'), ('novamente', 'ADV'), ('sacado', 'PCP'), ('Desta', 'ADV'), ('vez', 'N'), ('ele', 'PROPESS'), ('cometeu', 'V'), ('o', 'ART'), ('fumble', 'N|EST'), ('e', 'KC'), ('os', 'ART'), ('Giants', 'NPROP'), ('tomaram', 'V'), ('a', 'ART'), ('posse', 'N'), ('de', 'PREP'), ('bola', 'N'), ('Manning', 'NPROP'), ('tentou', 'V'), ('um', 'ART'), ('passe', 'N'), ('longo', 'ADJ'), ('de', 'PREP'), ('jardas', 'N'), ('nos', 'PROPESS'), ('ltimos', None), ('segundos', 'N'), ('mas', 'KC'), ('não', 'ADV'), ('teve', 'V'), ('sucesso', 'N'), ('O', 'ART'), ('jogo', 'N'), ('continuou', 'V'), ('amarrado', 'PCP'), ('no', 'KC'), ('terceiro', 'ADJ'), ('quarto', 'N'), ('com', 'PREP'), ('as', 'ART'), ('defesas', 'N'), ('levando', 'V'), ('a', 'ART'), ('melhor', 'ADJ'), ('sobre', 'PREP'), ('os', 'ART'), ('ataques', 'N'), ('A', 'ART'), ('nica', None), ('chance', 'N'), ('de', 'PREP'), ('pontuar', None), ('do', 'NPROP'), ('período', 'N'), ('foi', 'VAUX'), ('dos', 'NPROP'), ('Patriots', None), ('que', 'PRO-KS-REL'), ('chegaram', 'V'), ('linha', 'N'), ('de', 'PREP'), ('jardas', 'N'), ('dos', 'NPROP'), ('Giants', 'NPROP'), ('O', 'ART'), ('técnico', 'N'), ('Bill', 'NPROP'), ('Bellichick', None), ('porém', 'KC'), ('optou', 'V'), ('por', 'PREP|+'), ('uma', 'ART'), ('quarta', 'N'), ('descida', 'N'), ('em', 'PREP|+'), ('vez', 'N'), ('de', 'PREP'), ('um', 'ART'), ('field', 'N|EST'), ('goal', 'N|EST'), ('Brady', 'NPROP'), ('tentou', 'V'), ('um', 'ART'), ('passe', 'N'), ('para', 'PREP'), ('Jabar', None), ('Gaffney', None), ('mas', 'KC'), ('não', 'ADV'), ('conseguiu', 'V'), ('completar', 'V'), ('O', 'ART'), ('ltimo', None), ('período', 'N'), ('começou', 'VAUX'), ('arrasador', None), ('para', 'PREP'), ('os', 'ART'), ('Giants', 'NPROP'), ('na', 'NPROP'), ('primeira', 'ADJ'), ('jogada', 'N'), ('Manning', 'NPROP'), ('achou', 'V'), ('o', 'ART'), ('tight', None), ('end', None), ('Kevin', 'NPROP'), ('Boss', None), ('para', 'PREP'), ('um', 'ART'), ('incrível', 'ADJ'), ('avanço', 'N'), ('de', 'PREP'), ('jardas', 'N'), ('que', 'PRO-KS-REL'), ('deixou', 'V'), ('o', 'ART'), ('time', 'N'), ('na', 'NPROP'), ('linha', 'N'), ('de', 'PREP'), ('dos', 'NPROP'), ('Patriots', None), ('Outro', 'PROADJ'), ('lançamento', 'N'), ('desta', 'PROADJ'), ('vez', 'N'), ('para', 'PREP'), ('Steve', 'NPROP'), ('Smith', 'NPROP'), ('marcou', 'V'), ('o', 'ART'), ('avanço', 'N'), ('até', 'PREP'), ('a', 'ART'), ('linha', 'N'), ('de', 'PREP'), ('jardas', 'N'), ('Duas', 'NUM'), ('jogadas', 'N'), ('depois', 'ADV'), ('David', 'NPROP'), ('Tyree', None), ('pegou', 'V'), ('um', 'ART'), ('passe', 'N'), ('de', 'PREP'), ('cinco', 'NUM'), ('jardas', 'N'), ('na', 'NPROP'), ('end', None), ('zone', None), ('para', 'PREP'), ('anotar', 'V'), ('o', 'ART'), ('touchdown', 'N|EST'), ('e', 'KC'), ('virar', 'V'), ('o', 'ART'), ('jogo', 'N'), ('Na', 'NPROP'), ('hora', 'N'), ('da', 'NPROP'), ('decisão', 'N'), ('o', 'ART'), ('ataque', 'N'), ('dos', 'NPROP'), ('Patriots', None), ('voltou', 'V'), ('a', 'ART'), ('funcionar', 'V'), ('Com', 'PREP'), ('uma', 'ART'), ('série', 'N'), ('de', 'PREP'), ('passes', 'N'), ('curtos', 'ADJ'), ('e', 'KC'), ('variados', 'PCP'), ('Brady', 'NPROP'), ('achou', 'V'), ('Wes', None), ('Welker', None), ('Randy', 'NPROP'), ('Moss', 'NPROP'), ('e', 'KC'), ('Kevin', 'NPROP'), ('Faulk', None), ('seguidas', 'PCP'), ('vezes', 'N'), ('até', 'PREP'), ('chegar', 'V'), ('red', 'N|EST'), ('zone', None), ('A', 'ART'), ('m45s', None), ('do', 'NPROP'), ('fim', 'N'), ('o', 'ART'), ('quarterback', 'N|EST'), ('conectou', None), ('mais', 'ADV'), ('uma', 'ART'), ('vez', 'N'), ('com', 'PREP'), ('Moss', 'NPROP'), ('que', 'PRO-KS-REL'), ('se', 'PROPESS'), ('desmarcou', None), ('e', 'KC'), ('ficou', 'V'), ('livre', 'ADJ'), ('na', 'NPROP'), ('lateral', 'N'), ('direita', 'N'), ('da', 'NPROP'), ('end', None), ('zone', None), ('Quando', 'KS'), ('os', 'ART'), ('fãs', 'N'), ('de', 'PREP'), ('New', 'NPROP'), ('England', 'NPROP'), ('já', 'ADV'), ('comemoravam', 'V'), ('a', 'ART'), ('vitória', 'N'), ('o', 'ART'), ('inesperado', 'ADJ'), ('aconteceu', 'V'), ('Em', 'PREP|+'), ('uma', 'ART'), ('jogada', 'N'), ('incrível', 'ADJ'), ('Eli', 'NPROP'), ('Manning', 'NPROP'), ('se', 'PROPESS'), ('soltou', 'V'), ('de', 'PREP'), ('dois', 'NUM'), ('marcadores', 'N'), ('que', 'PRO-KS-REL'), ('o', 'ART'), ('seguravam', None), ('pela', 'NPROP'), ('camisa', 'N'), ('e', 'KC'), ('na', 'NPROP'), ('corrida', 'N'), ('lançou', 'V'), ('para', 'PREP'), ('Amani', None), ('Toomer', None), ('O', 'ART'), ('wide', 'N|EST'), ('receiver', None), ('bem', 'ADV'), ('marcado', 'PCP'), ('saltou', 'V'), ('e', 'KC'), ('conseguiu', 'V'), ('a', 'ART'), ('fazer', 'V'), ('recepção', 'N'), ('para', 'PREP'), ('um', 'ART'), ('avanço', 'N'), ('de', 'PREP'), ('jardas', 'N'), ('deixando', 'V'), ('os', 'ART'), ('Giants', 'NPROP'), ('na', 'NPROP'), ('linha', 'N'), ('de', 'PREP'), ('de', 'PREP'), ('New', 'NPROP'), ('England', 'NPROP'), ('Quatro', 'NUM'), ('jogadas', 'N'), ('depois', 'ADV'), ('a', 'ART'), ('segundos', 'N'), ('do', 'NPROP'), ('fim', 'N'), ('Manning', 'NPROP'), ('achou', 'V'), ('Plaxico', None), ('Burress', None), ('na', 'NPROP'), ('end', None), ('zone', None), ('para', 'PREP'), ('conseguir', 'V'), ('o', 'ART'), ('touchdown', 'N|EST'), ('do', 'NPROP'), ('título', 'N')]\n"
          ]
        }
      ]
    },
    {
      "cell_type": "markdown",
      "metadata": {
        "id": "ihAJbEY2vaZq"
      },
      "source": [
        "# Pré-classificação de texto"
      ]
    },
    {
      "cell_type": "code",
      "metadata": {
        "id": "SMfoPXw82l0N"
      },
      "source": [
        "from nltk.corpus import mac_morpho\n",
        "from nltk.tag import DefaultTagger\n",
        "from nltk.tag import UnigramTagger"
      ],
      "execution_count": 38,
      "outputs": []
    },
    {
      "cell_type": "code",
      "metadata": {
        "id": "cPKKjFJJSO1w",
        "colab": {
          "base_uri": "https://localhost:8080/"
        },
        "outputId": "0773c0d6-2aff-4b5e-acb4-4fb741f080b5"
      },
      "source": [
        "tokens = nltk.word_tokenize(corpus)\n",
        "etiq_padrao = DefaultTagger('N')\n",
        "sentencas_treinada = mac_morpho.tagged_sents()\n",
        "etiq = UnigramTagger(sentencas_treinada, backoff=etiq_padrao)\n",
        "tags = etiq.tag(tokens)\n",
        "print(tags)"
      ],
      "execution_count": 39,
      "outputs": [
        {
          "output_type": "stream",
          "name": "stdout",
          "text": [
            "[('Giants', 'NPROP'), ('batem', 'V'), ('os', 'ART'), ('Patriots', 'N'), ('no', 'KC'), ('Super', 'NPROP'), ('Bowl', 'NPROP'), ('XLII', 'N'), ('Azarões', 'N'), ('acabam', 'VAUX'), ('com', 'PREP'), ('a', 'ART'), ('invencibilidade', 'N'), ('de', 'PREP'), ('New', 'NPROP'), ('England', 'NPROP'), ('e', 'KC'), ('ficam', 'V'), ('com', 'PREP'), ('o', 'ART'), ('título', 'N'), ('da', 'NPROP'), ('temporada', 'N'), ('04/02/2008', 'N'), ('-', '-'), ('01h07m', 'N'), ('-', '-'), ('Atualizado', 'N'), ('em', 'PREP|+'), ('04/02/2008', 'N'), ('-', '-'), ('09h49m', 'N'), ('Com', 'PREP'), ('um', 'ART'), ('passe', 'N'), ('de', 'PREP'), ('Eli', 'NPROP'), ('Manning', 'NPROP'), ('para', 'PREP'), ('Plaxico', 'N'), ('Burress', 'N'), ('a', 'ART'), ('39', 'NUM'), ('segundos', 'N'), ('do', 'NPROP'), ('fim', 'N'), (',', ','), ('o', 'ART'), ('New', 'NPROP'), ('York', 'NPROP'), ('Giants', 'NPROP'), ('anotou', 'V'), ('o', 'ART'), ('touchdown', 'N|EST'), ('decisivo', 'ADJ'), ('e', 'KC'), ('derrubou', 'V'), ('o', 'ART'), ('favorito', 'N'), ('New', 'NPROP'), ('England', 'NPROP'), ('Patriots', 'N'), ('por', 'PREP|+'), ('17', 'NUM'), ('a', 'ART'), ('14', 'NUM'), ('neste', 'N'), ('domingo', 'N'), (',', ','), ('em', 'PREP|+'), ('Glendale', 'N'), (',', ','), ('no', 'KC'), ('Super', 'NPROP'), ('Bowl', 'NPROP'), ('XLII', 'N'), ('.', '.'), ('O', 'ART'), ('resultado', 'N'), (',', ','), ('uma', 'ART'), ('das', 'NPROP'), ('maiores', 'ADJ'), ('zebras', 'N'), ('da', 'NPROP'), ('história', 'N'), ('do', 'NPROP'), ('Super', 'NPROP'), ('Bowl', 'NPROP'), (',', ','), ('acabou', 'VAUX'), ('com', 'PREP'), ('a', 'ART'), ('temporada', 'N'), ('perfeita', 'ADJ'), ('de', 'PREP'), ('Tom', 'NPROP'), ('Brady', 'NPROP'), ('e', 'KC'), ('companhia', 'N'), (',', ','), ('que', 'PRO-KS-REL'), ('esperavam', 'V'), ('fazer', 'V'), ('história', 'N'), ('ao', 'PREP'), ('levantar', 'V'), ('o', 'ART'), ('troféu', 'N'), ('da', 'NPROP'), ('NFL', 'N'), ('sem', 'PREP'), ('sofrer', 'V'), ('uma', 'ART'), ('derrota', 'N'), ('no', 'KC'), ('ano', 'N'), ('.', '.'), ('A', 'ART'), ('vitória', 'N'), ('dos', 'NPROP'), ('Giants', 'NPROP'), (',', ','), ('porém', 'KC'), (',', ','), ('também', 'PDEN'), ('ficará', 'V'), ('para', 'PREP'), ('a', 'ART'), ('história', 'N'), ('.', '.'), ('Pela', 'NPROP'), ('primeira', 'ADJ'), ('vez', 'N'), (',', ','), ('irmãos', 'N'), ('quarterbacks', 'N'), ('triunfam', 'N'), ('no', 'KC'), ('Super', 'NPROP'), ('Bowl', 'NPROP'), ('em', 'PREP|+'), ('temporadas', 'N'), ('consecutivas', 'ADJ'), ('.', '.'), ('No', 'KC'), ('ano', 'N'), ('passado', 'PCP'), (',', ','), ('Peyton', 'N'), ('Manning', 'NPROP'), (',', ','), ('irmão', 'N'), ('de', 'PREP'), ('Eli', 'NPROP'), (',', ','), ('chegou', 'V'), ('ao', 'PREP'), ('título', 'N'), ('máximo', 'N'), ('da', 'NPROP'), ('NFL', 'N'), ('pelo', 'PDEN'), ('Indianapolis', 'N'), ('Colts', 'N'), ('.', '.'), ('A', 'ART'), ('partida', 'N'), ('Os', 'ART'), ('Giants', 'NPROP'), ('começaram', 'VAUX'), ('com', 'PREP'), ('a', 'ART'), ('posse', 'N'), ('de', 'PREP'), ('bola', 'N'), (',', ','), ('e', 'KC'), ('mostraram', 'V'), ('logo', 'ADV'), ('que', 'PRO-KS-REL'), ('iriam', 'VAUX'), ('alongar', 'V'), ('ao', 'PREP'), ('máximo', 'N'), ('suas', 'PROADJ'), ('posses', 'N'), ('de', 'PREP'), ('bola', 'N'), ('.', '.'), ('Misturando', 'N'), ('corridas', 'N'), ('com', 'PREP'), ('Brandon', 'N'), ('Jacobs', 'NPROP'), ('e', 'KC'), ('passes', 'N'), ('curtos', 'ADJ'), (',', ','), ('o', 'ART'), ('time', 'N'), ('de', 'PREP'), ('Nova', 'NPROP'), ('York', 'NPROP'), ('chegou', 'V'), ('à', 'NPROP'), ('red', 'N|EST'), ('zone', 'N'), ('logo', 'ADV'), ('na', 'NPROP'), ('primeira', 'ADJ'), ('campanha', 'N'), ('.', '.'), ('O', 'ART'), ('avanço', 'N'), (',', ','), ('no', 'KC'), ('entanto', 'KC'), (',', ','), ('parou', 'V'), ('na', 'NPROP'), ('linha', 'N'), ('de', 'PREP'), ('17', 'NUM'), ('jardas', 'N'), ('e', 'KC'), ('Lawrence', 'NPROP'), ('Tynes', 'N'), ('converteu', 'V'), ('o', 'ART'), ('field', 'N|EST'), ('goal', 'N|EST'), ('de', 'PREP'), ('32', 'NUM'), ('jardas', 'N'), ('para', 'PREP'), ('abrir', 'V'), ('o', 'ART'), ('placar', 'N'), ('.', '.'), ('Eli', 'NPROP'), ('Manning', 'NPROP'), ('e', 'KC'), ('companhia', 'N'), ('ficaram', 'V'), ('9m54s', 'N'), ('com', 'PREP'), ('a', 'ART'), ('bola', 'N'), (',', ','), ('mas', 'KC'), ('o', 'ART'), ('ataque', 'N'), ('dos', 'NPROP'), ('Patriots', 'N'), ('não', 'ADV'), ('entrou', 'V'), ('em', 'PREP|+'), ('campo', 'N'), ('frio', 'N'), ('.', '.'), ('Logo', 'ADV'), ('no', 'KC'), ('retorno', 'N'), ('do', 'NPROP'), ('kickoff', 'N'), (',', ','), ('o', 'ART'), ('running', 'N|EST'), ('back', 'N|EST'), ('Laurence', 'NPROP'), ('Maroney', 'N'), ('avançou', 'V'), ('43', 'NUM'), ('jardas', 'N'), (',', ','), ('deixando', 'V'), ('Tom', 'NPROP'), ('Brady', 'NPROP'), ('em', 'PREP|+'), ('boa', 'ADJ'), ('posição', 'N'), ('.', '.'), ('Com', 'PREP'), ('passes', 'N'), ('curtos', 'ADJ'), (',', ','), ('os', 'ART'), ('Patriots', 'N'), ('chegaram', 'V'), ('à', 'NPROP'), ('linha', 'N'), ('de', 'PREP'), ('17', 'NUM'), ('jardas', 'N'), ('e', 'KC'), (',', ','), ('graças', 'PREP|+'), ('a', 'ART'), ('uma', 'ART'), ('penalidade', 'N'), ('(', '('), ('interferência', 'N'), ('de', 'PREP'), ('passe', 'N'), (')', ')'), ('do', 'NPROP'), ('linebacker', 'N'), ('Antonio', 'NPROP'), ('Pierce', 'NPROP'), (',', ','), ('alcançaram', 'V'), ('a', 'ART'), ('linha', 'N'), ('de', 'PREP'), ('uma', 'ART'), ('jarda', 'N'), ('.', '.'), ('Maroney', 'N'), ('avançou', 'V'), ('pelo', 'PDEN'), ('chão', 'N'), ('e', 'KC'), ('anotou', 'V'), ('o', 'ART'), ('primeiro', 'ADJ'), ('touchdown', 'N|EST'), ('do', 'NPROP'), ('jogo', 'N'), ('.', '.'), ('Os', 'ART'), ('Giants', 'NPROP'), ('pareciam', 'V'), ('rumo', 'PREP|+'), ('à', 'NPROP'), ('virada', 'N'), ('na', 'NPROP'), ('campanha', 'N'), ('seguinte', 'ADJ'), ('.', '.'), ('Manning', 'NPROP'), ('achou', 'V'), ('Amani', 'N'), ('Toomer', 'N'), ('para', 'PREP'), ('um', 'ART'), ('avanço', 'N'), ('de', 'PREP'), ('38', 'NUM'), ('jardas', 'N'), (',', ','), ('e', 'KC'), ('o', 'ART'), ('time', 'N'), ('de', 'PREP'), ('Nova', 'NPROP'), ('York', 'NPROP'), ('entrou', 'V'), ('novamente', 'ADV'), ('na', 'NPROP'), ('red', 'N|EST'), ('zone', 'N'), ('.', '.'), ('Com', 'PREP'), ('a', 'ART'), ('bola', 'N'), ('na', 'NPROP'), ('linha', 'N'), ('de', 'PREP'), ('14', 'NUM'), ('jardas', 'N'), ('dos', 'NPROP'), ('Patriots', 'N'), (',', ','), ('os', 'ART'), ('Giants', 'NPROP'), ('sofreram', 'V'), ('um', 'ART'), ('revés', 'N'), ('.', '.'), ('Manning', 'NPROP'), ('passou', 'V'), ('para', 'PREP'), ('Steve', 'NPROP'), ('Smith', 'NPROP'), (',', ','), ('que', 'PRO-KS-REL'), ('soltou', 'V'), ('a', 'ART'), ('bola', 'N'), ('.', '.'), ('Ellis', 'NPROP'), ('Hobbs', 'N'), ('aproveitou', 'V'), (',', ','), ('tomou', 'V'), ('a', 'ART'), ('posse', 'N'), ('para', 'PREP'), ('os', 'ART'), ('Patriots', 'N'), (',', ','), ('e', 'KC'), ('avançou', 'V'), ('23', 'NUM'), ('jardas', 'N'), ('.', '.'), ('A', 'ART'), ('defesa', 'N'), ('de', 'PREP'), ('Nova', 'NPROP'), ('York', 'NPROP'), ('manteve', 'V'), ('o', 'ART'), ('jogo', 'N'), ('equilibrado', 'PCP'), ('.', '.'), ('Com', 'PREP'), ('dois', 'NUM'), ('sacks', 'N'), ('seguidos', 'PCP'), (',', ','), ('os', 'ART'), ('Giants', 'NPROP'), ('forçaram', 'V'), ('o', 'ART'), ('punt', 'N'), ('e', 'KC'), ('recuperaram', 'N'), ('a', 'ART'), ('bola', 'N'), ('.', '.'), ('Mas', 'KC'), ('a', 'ART'), ('campanha', 'N'), ('seguinte', 'ADJ'), ('provou', 'V'), ('ser', 'VAUX'), ('outra', 'PROADJ'), ('decepção', 'N'), ('para', 'PREP'), ('Nova', 'NPROP'), ('York', 'NPROP'), ('.', '.'), ('O', 'ART'), ('time', 'N'), ('chegou', 'V'), ('à', 'NPROP'), ('linha', 'N'), ('de', 'PREP'), ('25', 'NUM'), ('jardas', 'N'), (',', ','), ('mas', 'KC'), ('Manning', 'NPROP'), ('sofreu', 'V'), ('um', 'ART'), ('sack', 'N'), ('e', 'KC'), ('cometeu', 'V'), ('um', 'ART'), ('fumble', 'N|EST'), (',', ','), ('e', 'KC'), ('o', 'ART'), ('ataque', 'N'), ('voltou', 'V'), ('para', 'PREP'), ('a', 'ART'), ('linha', 'N'), ('de', 'PREP'), ('39', 'NUM'), ('jardas', 'N'), (',', ','), ('não', 'ADV'), ('conseguindo', 'V'), ('pontuar', 'N'), ('mais', 'ADV'), ('uma', 'ART'), ('vez', 'N'), ('.', '.'), ('Os', 'ART'), ('Patriots', 'N'), ('tiveram', 'V'), ('uma', 'ART'), ('última', 'ADJ'), ('chance', 'N'), ('de', 'PREP'), ('marcar', 'V'), ('antes', 'ADV'), ('do', 'NPROP'), ('intervalo', 'N'), (',', ','), ('mas', 'KC'), (',', ','), ('a', 'ART'), ('22', 'NUM'), ('segundos', 'N'), ('do', 'NPROP'), ('fim', 'N'), ('do', 'NPROP'), ('segundo', 'PREP'), ('período', 'N'), (',', ','), ('Brady', 'NPROP'), ('foi', 'VAUX'), ('novamente', 'ADV'), ('sacado', 'PCP'), ('.', '.'), ('Desta', 'ADV'), ('vez', 'N'), (',', ','), ('ele', 'PROPESS'), ('cometeu', 'V'), ('o', 'ART'), ('fumble', 'N|EST'), ('e', 'KC'), ('os', 'ART'), ('Giants', 'NPROP'), ('tomaram', 'V'), ('a', 'ART'), ('posse', 'N'), ('de', 'PREP'), ('bola', 'N'), ('.', '.'), ('Manning', 'NPROP'), ('tentou', 'V'), ('um', 'ART'), ('passe', 'N'), ('longo', 'ADJ'), (',', ','), ('de', 'PREP'), ('50', 'NUM'), ('jardas', 'N'), (',', ','), ('nos', 'PROPESS'), ('últimos', 'ADJ'), ('segundos', 'N'), (',', ','), ('mas', 'KC'), ('não', 'ADV'), ('teve', 'V'), ('sucesso', 'N'), ('.', '.'), ('O', 'ART'), ('jogo', 'N'), ('continuou', 'V'), ('amarrado', 'PCP'), ('no', 'KC'), ('terceiro', 'ADJ'), ('quarto', 'N'), (',', ','), ('com', 'PREP'), ('as', 'ART'), ('defesas', 'N'), ('levando', 'V'), ('a', 'ART'), ('melhor', 'ADJ'), ('sobre', 'PREP'), ('os', 'ART'), ('ataques', 'N'), ('.', '.'), ('A', 'ART'), ('única', 'ADJ'), ('chance', 'N'), ('de', 'PREP'), ('pontuar', 'N'), ('do', 'NPROP'), ('período', 'N'), ('foi', 'VAUX'), ('dos', 'NPROP'), ('Patriots', 'N'), (',', ','), ('que', 'PRO-KS-REL'), ('chegaram', 'V'), ('à', 'NPROP'), ('linha', 'N'), ('de', 'PREP'), ('31', 'NUM'), ('jardas', 'N'), ('dos', 'NPROP'), ('Giants', 'NPROP'), ('.', '.'), ('O', 'ART'), ('técnico', 'N'), ('Bill', 'NPROP'), ('Bellichick', 'N'), (',', ','), ('porém', 'KC'), (',', ','), ('optou', 'V'), ('por', 'PREP|+'), ('uma', 'ART'), ('quarta', 'N'), ('descida', 'N'), ('em', 'PREP|+'), ('vez', 'N'), ('de', 'PREP'), ('um', 'ART'), ('field', 'N|EST'), ('goal', 'N|EST'), ('.', '.'), ('Brady', 'NPROP'), ('tentou', 'V'), ('um', 'ART'), ('passe', 'N'), ('para', 'PREP'), ('Jabar', 'N'), ('Gaffney', 'N'), (',', ','), ('mas', 'KC'), ('não', 'ADV'), ('conseguiu', 'V'), ('completar', 'V'), ('.', '.'), ('O', 'ART'), ('último', 'ADJ'), ('período', 'N'), ('começou', 'VAUX'), ('arrasador', 'N'), ('para', 'PREP'), ('os', 'ART'), ('Giants', 'NPROP'), ('.', '.'), ('na', 'NPROP'), ('primeira', 'ADJ'), ('jogada', 'N'), (',', ','), ('Manning', 'NPROP'), ('achou', 'V'), ('o', 'ART'), ('tight', 'N'), ('end', 'N'), ('Kevin', 'NPROP'), ('Boss', 'N'), (',', ','), ('para', 'PREP'), ('um', 'ART'), ('incrível', 'ADJ'), ('avanço', 'N'), ('de', 'PREP'), ('45', 'NUM'), ('jardas', 'N'), (',', ','), ('que', 'PRO-KS-REL'), ('deixou', 'V'), ('o', 'ART'), ('time', 'N'), ('na', 'NPROP'), ('linha', 'N'), ('de', 'PREP'), ('35', 'NUM'), ('dos', 'NPROP'), ('Patriots', 'N'), ('.', '.'), ('Outro', 'PROADJ'), ('lançamento', 'N'), (',', ','), ('desta', 'PROADJ'), ('vez', 'N'), ('para', 'PREP'), ('Steve', 'NPROP'), ('Smith', 'NPROP'), (',', ','), ('marcou', 'V'), ('o', 'ART'), ('avanço', 'N'), ('até', 'PREP'), ('a', 'ART'), ('linha', 'N'), ('de', 'PREP'), ('12', 'NUM'), ('jardas', 'N'), ('.', '.'), ('Duas', 'NUM'), ('jogadas', 'N'), ('depois', 'ADV'), (',', ','), ('David', 'NPROP'), ('Tyree', 'N'), ('pegou', 'V'), ('um', 'ART'), ('passe', 'N'), ('de', 'PREP'), ('cinco', 'NUM'), ('jardas', 'N'), ('na', 'NPROP'), ('end', 'N'), ('zone', 'N'), ('para', 'PREP'), ('anotar', 'V'), ('o', 'ART'), ('touchdown', 'N|EST'), ('e', 'KC'), ('virar', 'V'), ('o', 'ART'), ('jogo', 'N'), ('.', '.'), ('Na', 'NPROP'), ('hora', 'N'), ('da', 'NPROP'), ('decisão', 'N'), (',', ','), ('o', 'ART'), ('ataque', 'N'), ('dos', 'NPROP'), ('Patriots', 'N'), ('voltou', 'V'), ('a', 'ART'), ('funcionar', 'V'), ('.', '.'), ('Com', 'PREP'), ('uma', 'ART'), ('série', 'N'), ('de', 'PREP'), ('passes', 'N'), ('curtos', 'ADJ'), ('e', 'KC'), ('variados', 'PCP'), (',', ','), ('Brady', 'NPROP'), ('achou', 'V'), ('Wes', 'N'), ('Welker', 'N'), (',', ','), ('Randy', 'NPROP'), ('Moss', 'NPROP'), ('e', 'KC'), ('Kevin', 'NPROP'), ('Faulk', 'N'), ('seguidas', 'PCP'), ('vezes', 'N'), ('até', 'PREP'), ('chegar', 'V'), ('à', 'NPROP'), ('red', 'N|EST'), ('zone', 'N'), ('.', '.'), ('A', 'ART'), ('2m45s', 'N'), ('do', 'NPROP'), ('fim', 'N'), (',', ','), ('o', 'ART'), ('quarterback', 'N|EST'), ('conectou', 'N'), ('mais', 'ADV'), ('uma', 'ART'), ('vez', 'N'), ('com', 'PREP'), ('Moss', 'NPROP'), (',', ','), ('que', 'PRO-KS-REL'), ('se', 'PROPESS'), ('desmarcou', 'N'), ('e', 'KC'), ('ficou', 'V'), ('livre', 'ADJ'), ('na', 'NPROP'), ('lateral', 'N'), ('direita', 'N'), ('da', 'NPROP'), ('end', 'N'), ('zone', 'N'), ('.', '.'), ('Quando', 'KS'), ('os', 'ART'), ('fãs', 'N'), ('de', 'PREP'), ('New', 'NPROP'), ('England', 'NPROP'), ('já', 'ADV'), ('comemoravam', 'V'), ('a', 'ART'), ('vitória', 'N'), (',', ','), ('o', 'ART'), ('inesperado', 'ADJ'), ('aconteceu', 'V'), ('.', '.'), ('Em', 'PREP|+'), ('uma', 'ART'), ('jogada', 'N'), ('incrível', 'ADJ'), (',', ','), ('Eli', 'NPROP'), ('Manning', 'NPROP'), ('se', 'PROPESS'), ('soltou', 'V'), ('de', 'PREP'), ('dois', 'NUM'), ('marcadores', 'N'), ('que', 'PRO-KS-REL'), ('o', 'ART'), ('seguravam', 'N'), ('pela', 'NPROP'), ('camisa', 'N'), ('e', 'KC'), (',', ','), ('na', 'NPROP'), ('corrida', 'N'), (',', ','), ('lançou', 'V'), ('para', 'PREP'), ('Amani', 'N'), ('Toomer', 'N'), ('.', '.'), ('O', 'ART'), ('wide', 'N|EST'), ('receiver', 'N'), (',', ','), ('bem', 'ADV'), ('marcado', 'PCP'), (',', ','), ('saltou', 'V'), ('e', 'KC'), ('conseguiu', 'V'), ('a', 'ART'), ('fazer', 'V'), ('recepção', 'N'), ('para', 'PREP'), ('um', 'ART'), ('avanço', 'N'), ('de', 'PREP'), ('32', 'NUM'), ('jardas', 'N'), (',', ','), ('deixando', 'V'), ('os', 'ART'), ('Giants', 'NPROP'), ('na', 'NPROP'), ('linha', 'N'), ('de', 'PREP'), ('24', 'NUM'), ('de', 'PREP'), ('New', 'NPROP'), ('England', 'NPROP'), ('.', '.'), ('Quatro', 'NUM'), ('jogadas', 'N'), ('depois', 'ADV'), (',', ','), ('a', 'ART'), ('39', 'NUM'), ('segundos', 'N'), ('do', 'NPROP'), ('fim', 'N'), (',', ','), ('Manning', 'NPROP'), ('achou', 'V'), ('Plaxico', 'N'), ('Burress', 'N'), ('na', 'NPROP'), ('end', 'N'), ('zone', 'N'), ('para', 'PREP'), ('conseguir', 'V'), ('o', 'ART'), ('touchdown', 'N|EST'), ('do', 'NPROP'), ('título', 'N'), ('.', '.')]\n"
          ]
        }
      ]
    },
    {
      "cell_type": "markdown",
      "metadata": {
        "id": "MtgVonuSzjZK"
      },
      "source": [
        "# Análise descritiva\n",
        "# Análise sintática"
      ]
    },
    {
      "cell_type": "markdown",
      "metadata": {
        "id": "QlarIjZ9w_FO"
      },
      "source": [
        "##Chunking\n",
        "* Reconhecimento de Entidade Nomeadas"
      ]
    },
    {
      "cell_type": "code",
      "metadata": {
        "colab": {
          "base_uri": "https://localhost:8080/"
        },
        "id": "yzqWdiGKwsFC",
        "outputId": "38855ffd-685d-4eac-f70f-3ca9aafd6a91"
      },
      "source": [
        "from nltk.chunk import RegexpParser\n",
        "pattern = 'NP:{<NPROP><NPROP>|<N><N>}'\n",
        "analiseGramatical = RegexpParser(pattern)\n",
        "arvore = analiseGramatical.parse(tags)\n",
        "print(arvore)\n",
        "#arvore.draw() somente no computador pessoal\n",
        "#display(arvore)"
      ],
      "execution_count": null,
      "outputs": [
        {
          "output_type": "stream",
          "name": "stdout",
          "text": [
            "(S\n",
            "  Giants/NPROP\n",
            "  batem/V\n",
            "  os/ART\n",
            "  Patriots/N\n",
            "  no/KC\n",
            "  (NP Super/NPROP Bowl/NPROP)\n",
            "  (NP XLII/N Azarões/N)\n",
            "  acabam/VAUX\n",
            "  com/PREP\n",
            "  a/ART\n",
            "  invencibilidade/N\n",
            "  de/PREP\n",
            "  (NP New/NPROP England/NPROP)\n",
            "  e/KC\n",
            "  ficam/V\n",
            "  com/PREP\n",
            "  o/ART\n",
            "  título/N\n",
            "  da/NPROP\n",
            "  (NP temporada/N 04/02/2008/N)\n",
            "  -/-\n",
            "  01h07m/N\n",
            "  -/-\n",
            "  Atualizado/N\n",
            "  em/PREP|+\n",
            "  04/02/2008/N\n",
            "  -/-\n",
            "  09h49m/N\n",
            "  Com/PREP\n",
            "  um/ART\n",
            "  passe/N\n",
            "  de/PREP\n",
            "  (NP Eli/NPROP Manning/NPROP)\n",
            "  para/PREP\n",
            "  (NP Plaxico/N Burress/N)\n",
            "  a/ART\n",
            "  39/NUM\n",
            "  segundos/N\n",
            "  do/NPROP\n",
            "  fim/N\n",
            "  ,/,\n",
            "  o/ART\n",
            "  (NP New/NPROP York/NPROP)\n",
            "  Giants/NPROP\n",
            "  anotou/V\n",
            "  o/ART\n",
            "  touchdown/N|EST\n",
            "  decisivo/ADJ\n",
            "  e/KC\n",
            "  derrubou/V\n",
            "  o/ART\n",
            "  favorito/N\n",
            "  (NP New/NPROP England/NPROP)\n",
            "  Patriots/N\n",
            "  por/PREP|+\n",
            "  17/NUM\n",
            "  a/ART\n",
            "  14/NUM\n",
            "  (NP neste/N domingo/N)\n",
            "  ,/,\n",
            "  em/PREP|+\n",
            "  Glendale/N\n",
            "  ,/,\n",
            "  no/KC\n",
            "  (NP Super/NPROP Bowl/NPROP)\n",
            "  XLII/N\n",
            "  ./.\n",
            "  O/ART\n",
            "  resultado/N\n",
            "  ,/,\n",
            "  uma/ART\n",
            "  das/NPROP\n",
            "  maiores/ADJ\n",
            "  zebras/N\n",
            "  da/NPROP\n",
            "  história/N\n",
            "  (NP do/NPROP Super/NPROP)\n",
            "  Bowl/NPROP\n",
            "  ,/,\n",
            "  acabou/VAUX\n",
            "  com/PREP\n",
            "  a/ART\n",
            "  temporada/N\n",
            "  perfeita/ADJ\n",
            "  de/PREP\n",
            "  (NP Tom/NPROP Brady/NPROP)\n",
            "  e/KC\n",
            "  companhia/N\n",
            "  ,/,\n",
            "  que/PRO-KS-REL\n",
            "  esperavam/V\n",
            "  fazer/V\n",
            "  história/N\n",
            "  ao/PREP\n",
            "  levantar/V\n",
            "  o/ART\n",
            "  troféu/N\n",
            "  da/NPROP\n",
            "  NFL/N\n",
            "  sem/PREP\n",
            "  sofrer/V\n",
            "  uma/ART\n",
            "  derrota/N\n",
            "  no/KC\n",
            "  ano/N\n",
            "  ./.\n",
            "  A/ART\n",
            "  vitória/N\n",
            "  (NP dos/NPROP Giants/NPROP)\n",
            "  ,/,\n",
            "  porém/KC\n",
            "  ,/,\n",
            "  também/PDEN\n",
            "  ficará/V\n",
            "  para/PREP\n",
            "  a/ART\n",
            "  história/N\n",
            "  ./.\n",
            "  Pela/NPROP\n",
            "  primeira/ADJ\n",
            "  vez/N\n",
            "  ,/,\n",
            "  (NP irmãos/N quarterbacks/N)\n",
            "  triunfam/N\n",
            "  no/KC\n",
            "  (NP Super/NPROP Bowl/NPROP)\n",
            "  em/PREP|+\n",
            "  temporadas/N\n",
            "  consecutivas/ADJ\n",
            "  ./.\n",
            "  No/KC\n",
            "  ano/N\n",
            "  passado/PCP\n",
            "  ,/,\n",
            "  Peyton/N\n",
            "  Manning/NPROP\n",
            "  ,/,\n",
            "  irmão/N\n",
            "  de/PREP\n",
            "  Eli/NPROP\n",
            "  ,/,\n",
            "  chegou/V\n",
            "  ao/PREP\n",
            "  (NP título/N máximo/N)\n",
            "  da/NPROP\n",
            "  NFL/N\n",
            "  pelo/PDEN\n",
            "  (NP Indianapolis/N Colts/N)\n",
            "  ./.\n",
            "  A/ART\n",
            "  partida/N\n",
            "  Os/ART\n",
            "  Giants/NPROP\n",
            "  começaram/VAUX\n",
            "  com/PREP\n",
            "  a/ART\n",
            "  posse/N\n",
            "  de/PREP\n",
            "  bola/N\n",
            "  ,/,\n",
            "  e/KC\n",
            "  mostraram/V\n",
            "  logo/ADV\n",
            "  que/PRO-KS-REL\n",
            "  iriam/VAUX\n",
            "  alongar/V\n",
            "  ao/PREP\n",
            "  máximo/N\n",
            "  suas/PROADJ\n",
            "  posses/N\n",
            "  de/PREP\n",
            "  bola/N\n",
            "  ./.\n",
            "  (NP Misturando/N corridas/N)\n",
            "  com/PREP\n",
            "  Brandon/N\n",
            "  Jacobs/NPROP\n",
            "  e/KC\n",
            "  passes/N\n",
            "  curtos/ADJ\n",
            "  ,/,\n",
            "  o/ART\n",
            "  time/N\n",
            "  de/PREP\n",
            "  (NP Nova/NPROP York/NPROP)\n",
            "  chegou/V\n",
            "  à/NPROP\n",
            "  red/N|EST\n",
            "  zone/N\n",
            "  logo/ADV\n",
            "  na/NPROP\n",
            "  primeira/ADJ\n",
            "  campanha/N\n",
            "  ./.\n",
            "  O/ART\n",
            "  avanço/N\n",
            "  ,/,\n",
            "  no/KC\n",
            "  entanto/KC\n",
            "  ,/,\n",
            "  parou/V\n",
            "  na/NPROP\n",
            "  linha/N\n",
            "  de/PREP\n",
            "  17/NUM\n",
            "  jardas/N\n",
            "  e/KC\n",
            "  Lawrence/NPROP\n",
            "  Tynes/N\n",
            "  converteu/V\n",
            "  o/ART\n",
            "  field/N|EST\n",
            "  goal/N|EST\n",
            "  de/PREP\n",
            "  32/NUM\n",
            "  jardas/N\n",
            "  para/PREP\n",
            "  abrir/V\n",
            "  o/ART\n",
            "  placar/N\n",
            "  ./.\n",
            "  (NP Eli/NPROP Manning/NPROP)\n",
            "  e/KC\n",
            "  companhia/N\n",
            "  ficaram/V\n",
            "  9m54s/N\n",
            "  com/PREP\n",
            "  a/ART\n",
            "  bola/N\n",
            "  ,/,\n",
            "  mas/KC\n",
            "  o/ART\n",
            "  ataque/N\n",
            "  dos/NPROP\n",
            "  Patriots/N\n",
            "  não/ADV\n",
            "  entrou/V\n",
            "  em/PREP|+\n",
            "  (NP campo/N frio/N)\n",
            "  ./.\n",
            "  Logo/ADV\n",
            "  no/KC\n",
            "  retorno/N\n",
            "  do/NPROP\n",
            "  kickoff/N\n",
            "  ,/,\n",
            "  o/ART\n",
            "  running/N|EST\n",
            "  back/N|EST\n",
            "  Laurence/NPROP\n",
            "  Maroney/N\n",
            "  avançou/V\n",
            "  43/NUM\n",
            "  jardas/N\n",
            "  ,/,\n",
            "  deixando/V\n",
            "  (NP Tom/NPROP Brady/NPROP)\n",
            "  em/PREP|+\n",
            "  boa/ADJ\n",
            "  posição/N\n",
            "  ./.\n",
            "  Com/PREP\n",
            "  passes/N\n",
            "  curtos/ADJ\n",
            "  ,/,\n",
            "  os/ART\n",
            "  Patriots/N\n",
            "  chegaram/V\n",
            "  à/NPROP\n",
            "  linha/N\n",
            "  de/PREP\n",
            "  17/NUM\n",
            "  jardas/N\n",
            "  e/KC\n",
            "  ,/,\n",
            "  graças/PREP|+\n",
            "  a/ART\n",
            "  uma/ART\n",
            "  penalidade/N\n",
            "  (/(\n",
            "  interferência/N\n",
            "  de/PREP\n",
            "  passe/N\n",
            "  )/)\n",
            "  do/NPROP\n",
            "  linebacker/N\n",
            "  (NP Antonio/NPROP Pierce/NPROP)\n",
            "  ,/,\n",
            "  alcançaram/V\n",
            "  a/ART\n",
            "  linha/N\n",
            "  de/PREP\n",
            "  uma/ART\n",
            "  jarda/N\n",
            "  ./.\n",
            "  Maroney/N\n",
            "  avançou/V\n",
            "  pelo/PDEN\n",
            "  chão/N\n",
            "  e/KC\n",
            "  anotou/V\n",
            "  o/ART\n",
            "  primeiro/ADJ\n",
            "  touchdown/N|EST\n",
            "  do/NPROP\n",
            "  jogo/N\n",
            "  ./.\n",
            "  Os/ART\n",
            "  Giants/NPROP\n",
            "  pareciam/V\n",
            "  rumo/PREP|+\n",
            "  à/NPROP\n",
            "  virada/N\n",
            "  na/NPROP\n",
            "  campanha/N\n",
            "  seguinte/ADJ\n",
            "  ./.\n",
            "  Manning/NPROP\n",
            "  achou/V\n",
            "  (NP Amani/N Toomer/N)\n",
            "  para/PREP\n",
            "  um/ART\n",
            "  avanço/N\n",
            "  de/PREP\n",
            "  38/NUM\n",
            "  jardas/N\n",
            "  ,/,\n",
            "  e/KC\n",
            "  o/ART\n",
            "  time/N\n",
            "  de/PREP\n",
            "  (NP Nova/NPROP York/NPROP)\n",
            "  entrou/V\n",
            "  novamente/ADV\n",
            "  na/NPROP\n",
            "  red/N|EST\n",
            "  zone/N\n",
            "  ./.\n",
            "  Com/PREP\n",
            "  a/ART\n",
            "  bola/N\n",
            "  na/NPROP\n",
            "  linha/N\n",
            "  de/PREP\n",
            "  14/NUM\n",
            "  jardas/N\n",
            "  dos/NPROP\n",
            "  Patriots/N\n",
            "  ,/,\n",
            "  os/ART\n",
            "  Giants/NPROP\n",
            "  sofreram/V\n",
            "  um/ART\n",
            "  revés/N\n",
            "  ./.\n",
            "  Manning/NPROP\n",
            "  passou/V\n",
            "  para/PREP\n",
            "  (NP Steve/NPROP Smith/NPROP)\n",
            "  ,/,\n",
            "  que/PRO-KS-REL\n",
            "  soltou/V\n",
            "  a/ART\n",
            "  bola/N\n",
            "  ./.\n",
            "  Ellis/NPROP\n",
            "  Hobbs/N\n",
            "  aproveitou/V\n",
            "  ,/,\n",
            "  tomou/V\n",
            "  a/ART\n",
            "  posse/N\n",
            "  para/PREP\n",
            "  os/ART\n",
            "  Patriots/N\n",
            "  ,/,\n",
            "  e/KC\n",
            "  avançou/V\n",
            "  23/NUM\n",
            "  jardas/N\n",
            "  ./.\n",
            "  A/ART\n",
            "  defesa/N\n",
            "  de/PREP\n",
            "  (NP Nova/NPROP York/NPROP)\n",
            "  manteve/V\n",
            "  o/ART\n",
            "  jogo/N\n",
            "  equilibrado/PCP\n",
            "  ./.\n",
            "  Com/PREP\n",
            "  dois/NUM\n",
            "  sacks/N\n",
            "  seguidos/PCP\n",
            "  ,/,\n",
            "  os/ART\n",
            "  Giants/NPROP\n",
            "  forçaram/V\n",
            "  o/ART\n",
            "  punt/N\n",
            "  e/KC\n",
            "  recuperaram/N\n",
            "  a/ART\n",
            "  bola/N\n",
            "  ./.\n",
            "  Mas/KC\n",
            "  a/ART\n",
            "  campanha/N\n",
            "  seguinte/ADJ\n",
            "  provou/V\n",
            "  ser/VAUX\n",
            "  outra/PROADJ\n",
            "  decepção/N\n",
            "  para/PREP\n",
            "  (NP Nova/NPROP York/NPROP)\n",
            "  ./.\n",
            "  O/ART\n",
            "  time/N\n",
            "  chegou/V\n",
            "  à/NPROP\n",
            "  linha/N\n",
            "  de/PREP\n",
            "  25/NUM\n",
            "  jardas/N\n",
            "  ,/,\n",
            "  mas/KC\n",
            "  Manning/NPROP\n",
            "  sofreu/V\n",
            "  um/ART\n",
            "  sack/N\n",
            "  e/KC\n",
            "  cometeu/V\n",
            "  um/ART\n",
            "  fumble/N|EST\n",
            "  ,/,\n",
            "  e/KC\n",
            "  o/ART\n",
            "  ataque/N\n",
            "  voltou/V\n",
            "  para/PREP\n",
            "  a/ART\n",
            "  linha/N\n",
            "  de/PREP\n",
            "  39/NUM\n",
            "  jardas/N\n",
            "  ,/,\n",
            "  não/ADV\n",
            "  conseguindo/V\n",
            "  pontuar/N\n",
            "  mais/ADV\n",
            "  uma/ART\n",
            "  vez/N\n",
            "  ./.\n",
            "  Os/ART\n",
            "  Patriots/N\n",
            "  tiveram/V\n",
            "  uma/ART\n",
            "  última/ADJ\n",
            "  chance/N\n",
            "  de/PREP\n",
            "  marcar/V\n",
            "  antes/ADV\n",
            "  do/NPROP\n",
            "  intervalo/N\n",
            "  ,/,\n",
            "  mas/KC\n",
            "  ,/,\n",
            "  a/ART\n",
            "  22/NUM\n",
            "  segundos/N\n",
            "  do/NPROP\n",
            "  fim/N\n",
            "  do/NPROP\n",
            "  segundo/PREP\n",
            "  período/N\n",
            "  ,/,\n",
            "  Brady/NPROP\n",
            "  foi/VAUX\n",
            "  novamente/ADV\n",
            "  sacado/PCP\n",
            "  ./.\n",
            "  Desta/ADV\n",
            "  vez/N\n",
            "  ,/,\n",
            "  ele/PROPESS\n",
            "  cometeu/V\n",
            "  o/ART\n",
            "  fumble/N|EST\n",
            "  e/KC\n",
            "  os/ART\n",
            "  Giants/NPROP\n",
            "  tomaram/V\n",
            "  a/ART\n",
            "  posse/N\n",
            "  de/PREP\n",
            "  bola/N\n",
            "  ./.\n",
            "  Manning/NPROP\n",
            "  tentou/V\n",
            "  um/ART\n",
            "  passe/N\n",
            "  longo/ADJ\n",
            "  ,/,\n",
            "  de/PREP\n",
            "  50/NUM\n",
            "  jardas/N\n",
            "  ,/,\n",
            "  nos/PROPESS\n",
            "  últimos/ADJ\n",
            "  segundos/N\n",
            "  ,/,\n",
            "  mas/KC\n",
            "  não/ADV\n",
            "  teve/V\n",
            "  sucesso/N\n",
            "  ./.\n",
            "  O/ART\n",
            "  jogo/N\n",
            "  continuou/V\n",
            "  amarrado/PCP\n",
            "  no/KC\n",
            "  terceiro/ADJ\n",
            "  quarto/N\n",
            "  ,/,\n",
            "  com/PREP\n",
            "  as/ART\n",
            "  defesas/N\n",
            "  levando/V\n",
            "  a/ART\n",
            "  melhor/ADJ\n",
            "  sobre/PREP\n",
            "  os/ART\n",
            "  ataques/N\n",
            "  ./.\n",
            "  A/ART\n",
            "  única/ADJ\n",
            "  chance/N\n",
            "  de/PREP\n",
            "  pontuar/N\n",
            "  do/NPROP\n",
            "  período/N\n",
            "  foi/VAUX\n",
            "  dos/NPROP\n",
            "  Patriots/N\n",
            "  ,/,\n",
            "  que/PRO-KS-REL\n",
            "  chegaram/V\n",
            "  à/NPROP\n",
            "  linha/N\n",
            "  de/PREP\n",
            "  31/NUM\n",
            "  jardas/N\n",
            "  (NP dos/NPROP Giants/NPROP)\n",
            "  ./.\n",
            "  O/ART\n",
            "  técnico/N\n",
            "  Bill/NPROP\n",
            "  Bellichick/N\n",
            "  ,/,\n",
            "  porém/KC\n",
            "  ,/,\n",
            "  optou/V\n",
            "  por/PREP|+\n",
            "  uma/ART\n",
            "  (NP quarta/N descida/N)\n",
            "  em/PREP|+\n",
            "  vez/N\n",
            "  de/PREP\n",
            "  um/ART\n",
            "  field/N|EST\n",
            "  goal/N|EST\n",
            "  ./.\n",
            "  Brady/NPROP\n",
            "  tentou/V\n",
            "  um/ART\n",
            "  passe/N\n",
            "  para/PREP\n",
            "  (NP Jabar/N Gaffney/N)\n",
            "  ,/,\n",
            "  mas/KC\n",
            "  não/ADV\n",
            "  conseguiu/V\n",
            "  completar/V\n",
            "  ./.\n",
            "  O/ART\n",
            "  último/ADJ\n",
            "  período/N\n",
            "  começou/VAUX\n",
            "  arrasador/N\n",
            "  para/PREP\n",
            "  os/ART\n",
            "  Giants/NPROP\n",
            "  ./.\n",
            "  na/NPROP\n",
            "  primeira/ADJ\n",
            "  jogada/N\n",
            "  ,/,\n",
            "  Manning/NPROP\n",
            "  achou/V\n",
            "  o/ART\n",
            "  (NP tight/N end/N)\n",
            "  Kevin/NPROP\n",
            "  Boss/N\n",
            "  ,/,\n",
            "  para/PREP\n",
            "  um/ART\n",
            "  incrível/ADJ\n",
            "  avanço/N\n",
            "  de/PREP\n",
            "  45/NUM\n",
            "  jardas/N\n",
            "  ,/,\n",
            "  que/PRO-KS-REL\n",
            "  deixou/V\n",
            "  o/ART\n",
            "  time/N\n",
            "  na/NPROP\n",
            "  linha/N\n",
            "  de/PREP\n",
            "  35/NUM\n",
            "  dos/NPROP\n",
            "  Patriots/N\n",
            "  ./.\n",
            "  Outro/PROADJ\n",
            "  lançamento/N\n",
            "  ,/,\n",
            "  desta/PROADJ\n",
            "  vez/N\n",
            "  para/PREP\n",
            "  (NP Steve/NPROP Smith/NPROP)\n",
            "  ,/,\n",
            "  marcou/V\n",
            "  o/ART\n",
            "  avanço/N\n",
            "  até/PREP\n",
            "  a/ART\n",
            "  linha/N\n",
            "  de/PREP\n",
            "  12/NUM\n",
            "  jardas/N\n",
            "  ./.\n",
            "  Duas/NUM\n",
            "  jogadas/N\n",
            "  depois/ADV\n",
            "  ,/,\n",
            "  David/NPROP\n",
            "  Tyree/N\n",
            "  pegou/V\n",
            "  um/ART\n",
            "  passe/N\n",
            "  de/PREP\n",
            "  cinco/NUM\n",
            "  jardas/N\n",
            "  na/NPROP\n",
            "  (NP end/N zone/N)\n",
            "  para/PREP\n",
            "  anotar/V\n",
            "  o/ART\n",
            "  touchdown/N|EST\n",
            "  e/KC\n",
            "  virar/V\n",
            "  o/ART\n",
            "  jogo/N\n",
            "  ./.\n",
            "  Na/NPROP\n",
            "  hora/N\n",
            "  da/NPROP\n",
            "  decisão/N\n",
            "  ,/,\n",
            "  o/ART\n",
            "  ataque/N\n",
            "  dos/NPROP\n",
            "  Patriots/N\n",
            "  voltou/V\n",
            "  a/ART\n",
            "  funcionar/V\n",
            "  ./.\n",
            "  Com/PREP\n",
            "  uma/ART\n",
            "  série/N\n",
            "  de/PREP\n",
            "  passes/N\n",
            "  curtos/ADJ\n",
            "  e/KC\n",
            "  variados/PCP\n",
            "  ,/,\n",
            "  Brady/NPROP\n",
            "  achou/V\n",
            "  (NP Wes/N Welker/N)\n",
            "  ,/,\n",
            "  (NP Randy/NPROP Moss/NPROP)\n",
            "  e/KC\n",
            "  Kevin/NPROP\n",
            "  Faulk/N\n",
            "  seguidas/PCP\n",
            "  vezes/N\n",
            "  até/PREP\n",
            "  chegar/V\n",
            "  à/NPROP\n",
            "  red/N|EST\n",
            "  zone/N\n",
            "  ./.\n",
            "  A/ART\n",
            "  2m45s/N\n",
            "  do/NPROP\n",
            "  fim/N\n",
            "  ,/,\n",
            "  o/ART\n",
            "  quarterback/N|EST\n",
            "  conectou/N\n",
            "  mais/ADV\n",
            "  uma/ART\n",
            "  vez/N\n",
            "  com/PREP\n",
            "  Moss/NPROP\n",
            "  ,/,\n",
            "  que/PRO-KS-REL\n",
            "  se/PROPESS\n",
            "  desmarcou/N\n",
            "  e/KC\n",
            "  ficou/V\n",
            "  livre/ADJ\n",
            "  na/NPROP\n",
            "  (NP lateral/N direita/N)\n",
            "  da/NPROP\n",
            "  (NP end/N zone/N)\n",
            "  ./.\n",
            "  Quando/KS\n",
            "  os/ART\n",
            "  fãs/N\n",
            "  de/PREP\n",
            "  (NP New/NPROP England/NPROP)\n",
            "  já/ADV\n",
            "  comemoravam/V\n",
            "  a/ART\n",
            "  vitória/N\n",
            "  ,/,\n",
            "  o/ART\n",
            "  inesperado/ADJ\n",
            "  aconteceu/V\n",
            "  ./.\n",
            "  Em/PREP|+\n",
            "  uma/ART\n",
            "  jogada/N\n",
            "  incrível/ADJ\n",
            "  ,/,\n",
            "  (NP Eli/NPROP Manning/NPROP)\n",
            "  se/PROPESS\n",
            "  soltou/V\n",
            "  de/PREP\n",
            "  dois/NUM\n",
            "  marcadores/N\n",
            "  que/PRO-KS-REL\n",
            "  o/ART\n",
            "  seguravam/N\n",
            "  pela/NPROP\n",
            "  camisa/N\n",
            "  e/KC\n",
            "  ,/,\n",
            "  na/NPROP\n",
            "  corrida/N\n",
            "  ,/,\n",
            "  lançou/V\n",
            "  para/PREP\n",
            "  (NP Amani/N Toomer/N)\n",
            "  ./.\n",
            "  O/ART\n",
            "  wide/N|EST\n",
            "  receiver/N\n",
            "  ,/,\n",
            "  bem/ADV\n",
            "  marcado/PCP\n",
            "  ,/,\n",
            "  saltou/V\n",
            "  e/KC\n",
            "  conseguiu/V\n",
            "  a/ART\n",
            "  fazer/V\n",
            "  recepção/N\n",
            "  para/PREP\n",
            "  um/ART\n",
            "  avanço/N\n",
            "  de/PREP\n",
            "  32/NUM\n",
            "  jardas/N\n",
            "  ,/,\n",
            "  deixando/V\n",
            "  os/ART\n",
            "  (NP Giants/NPROP na/NPROP)\n",
            "  linha/N\n",
            "  de/PREP\n",
            "  24/NUM\n",
            "  de/PREP\n",
            "  (NP New/NPROP England/NPROP)\n",
            "  ./.\n",
            "  Quatro/NUM\n",
            "  jogadas/N\n",
            "  depois/ADV\n",
            "  ,/,\n",
            "  a/ART\n",
            "  39/NUM\n",
            "  segundos/N\n",
            "  do/NPROP\n",
            "  fim/N\n",
            "  ,/,\n",
            "  Manning/NPROP\n",
            "  achou/V\n",
            "  (NP Plaxico/N Burress/N)\n",
            "  na/NPROP\n",
            "  (NP end/N zone/N)\n",
            "  para/PREP\n",
            "  conseguir/V\n",
            "  o/ART\n",
            "  touchdown/N|EST\n",
            "  do/NPROP\n",
            "  título/N\n",
            "  ./.)\n"
          ]
        }
      ]
    },
    {
      "cell_type": "code",
      "metadata": {
        "id": "YfGG97qc0BhN"
      },
      "source": [
        ""
      ],
      "execution_count": null,
      "outputs": []
    }
  ]
}